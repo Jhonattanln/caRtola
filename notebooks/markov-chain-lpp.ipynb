{
  "cells": [
    {
      "cell_type": "markdown",
      "metadata": {
        "colab_type": "text",
        "id": "ZKwh2T74F6PA"
      },
      "source": [
        "# Escalando Cartola com Cadeias de Markov e Programação Linear"
      ]
    },
    {
      "cell_type": "markdown",
      "metadata": {
        "colab_type": "text",
        "id": "JI26l_SdF6PC"
      },
      "source": [
        "Autor: [Júlio Oliveira](https://jcalvesoliveira.github.io/)"
      ]
    },
    {
      "cell_type": "markdown",
      "metadata": {
        "colab_type": "text",
        "id": "shspmknjF6PE"
      },
      "source": [
        "### Motivação\n",
        "\n",
        "Meu time foi rebaixado, provavelmente não teremos Cartola FC para Série B em 2020."
      ]
    },
    {
      "cell_type": "markdown",
      "metadata": {
        "colab_type": "text",
        "id": "Hf9ghjhDF6PG"
      },
      "source": [
        "### Resumo\n",
        "\n",
        "___O time está em uma má fase!___\n",
        "\n",
        "Times de futebol passam por diferentes fases, e a impressão é sempre que os resultados resultados anteriores influenciam nos jogos seguintes. A maioria dos modelos que utilizamos para modelagem, assumem que os dados são i.i.d(independent and identically distributed), caso o jogo anterior realmente influencie no resultado, essa premissa não é verdadeira, e talvez um modelo para trabalhar com dados sequenciais funcione melhor."
      ]
    },
    {
      "cell_type": "markdown",
      "metadata": {
        "colab_type": "text",
        "id": "O2HwHv9LF6PI"
      },
      "source": [
        "### Técnica\n",
        "\n",
        "[Cadeias de Markov](http://www.columbia.edu/~jwp2128/Teaching/W4721/Spring2017/slides/lecture_4-11-17.pdf)"
      ]
    },
    {
      "cell_type": "markdown",
      "metadata": {
        "colab_type": "text",
        "id": "uSa12uOZF6PK"
      },
      "source": [
        "### Créditos:\n",
        "* Todas as bases utilizadas nesse estudo, são parte do trabalho conduzido pelo [Henrique Gomide](https://twitter.com/hpgomide), e estão disponíveis nesse [repositório](https://github.com/henriquepgomide/caRtola).\n",
        "* Vários dos conceitos aplicados nesse estudo, tem como referência o trabalho do professor [John Paisley](http://www.columbia.edu/~jwp2128/) da universidade de Columbia, para montar um ranking de clubes de basquete universitário com Cadeias de Markov. Todo o conceito aplicado está disponível [aqui](http://www.columbia.edu/~jwp2128/Teaching/W4721/Spring2017/slides/lecture_4-11-17.pdf).\n",
        "* A otimização linear teve como referência o artigo feito por Gupta, Akhil na International Conference on Sports Engineering ICSE-2017, disponível no [link](https://arxiv.org/ftp/arxiv/papers/1909/1909.12938.pdf)."
      ]
    },
    {
      "cell_type": "markdown",
      "metadata": {
        "colab_type": "text",
        "id": "0gbced7PF6PM"
      },
      "source": [
        "# Gerando lista com todos jogadores"
      ]
    },
    {
      "cell_type": "markdown",
      "metadata": {
        "colab_type": "text",
        "id": "89hoxSnLF6PP"
      },
      "source": [
        "Para gerar a nossa matriz de transições, precisamos manter a quantidade de jogadores única. Para isso, vamos usar o arquivo de média dos jogadores, apenas para conseguir todos os jogadores que atuaram no ano e a sua posição."
      ]
    },
    {
      "cell_type": "code",
      "execution_count": 20,
      "metadata": {
        "colab": {},
        "colab_type": "code",
        "id": "Yga9-ledF6PR"
      },
      "outputs": [],
      "source": [
        "import pandas as pd\n",
        "import glob\n",
        "pd.set_option('display.max_columns', None)\n"
      ]
    },
    {
      "cell_type": "code",
      "execution_count": 10,
      "metadata": {},
      "outputs": [],
      "source": [
        "diretc = 'D:/Projetos/Python/caRtola/data/01_raw/2023/'\n",
        "file = 'rodada-*.csv'\n",
        "nomes_arquivos = glob.glob(diretc + file)"
      ]
    },
    {
      "cell_type": "code",
      "execution_count": 11,
      "metadata": {},
      "outputs": [],
      "source": [
        "dfs = []\n",
        "for i in nomes_arquivos:\n",
        "    df = pd.read_csv(i)\n",
        "    dfs.append(df)"
      ]
    },
    {
      "cell_type": "code",
      "execution_count": 12,
      "metadata": {},
      "outputs": [],
      "source": [
        "df_2023 = pd.concat(dfs, ignore_index=True)"
      ]
    },
    {
      "cell_type": "code",
      "execution_count": 21,
      "metadata": {
        "colab": {
          "base_uri": "https://localhost:8080/",
          "height": 226
        },
        "colab_type": "code",
        "id": "RuC0HPfnF6Pf",
        "outputId": "e9c3136f-e4e1-498b-e5a3-3c42d58a303c"
      },
      "outputs": [
        {
          "data": {
            "text/html": [
              "<div>\n",
              "<style scoped>\n",
              "    .dataframe tbody tr th:only-of-type {\n",
              "        vertical-align: middle;\n",
              "    }\n",
              "\n",
              "    .dataframe tbody tr th {\n",
              "        vertical-align: top;\n",
              "    }\n",
              "\n",
              "    .dataframe thead th {\n",
              "        text-align: right;\n",
              "    }\n",
              "</style>\n",
              "<table border=\"1\" class=\"dataframe\">\n",
              "  <thead>\n",
              "    <tr style=\"text-align: right;\">\n",
              "      <th></th>\n",
              "      <th>Unnamed: 0</th>\n",
              "      <th>atletas.temporada_id</th>\n",
              "      <th>atletas.clube.id.full.name</th>\n",
              "      <th>atletas.slug</th>\n",
              "      <th>atletas.apelido_abreviado</th>\n",
              "      <th>atletas.status_id</th>\n",
              "      <th>atletas.rodada_id</th>\n",
              "      <th>atletas.variacao_num</th>\n",
              "      <th>atletas.nome</th>\n",
              "      <th>atletas.jogos_num</th>\n",
              "      <th>atletas.clube_id</th>\n",
              "      <th>atletas.pontos_num</th>\n",
              "      <th>atletas.foto</th>\n",
              "      <th>atletas.minimo_para_valorizar</th>\n",
              "      <th>atletas.posicao_id</th>\n",
              "      <th>atletas.preco_num</th>\n",
              "      <th>atletas.media_num</th>\n",
              "      <th>atletas.atleta_id</th>\n",
              "      <th>atletas.apelido</th>\n",
              "      <th>DS</th>\n",
              "      <th>FC</th>\n",
              "      <th>FD</th>\n",
              "      <th>FS</th>\n",
              "      <th>G</th>\n",
              "      <th>SG</th>\n",
              "      <th>FF</th>\n",
              "      <th>CA</th>\n",
              "      <th>I</th>\n",
              "      <th>DE</th>\n",
              "      <th>GS</th>\n",
              "      <th>DP</th>\n",
              "      <th>A</th>\n",
              "      <th>FT</th>\n",
              "      <th>PC</th>\n",
              "      <th>V</th>\n",
              "      <th>PS</th>\n",
              "      <th>PP</th>\n",
              "      <th>CV</th>\n",
              "      <th>GC</th>\n",
              "    </tr>\n",
              "  </thead>\n",
              "  <tbody>\n",
              "    <tr>\n",
              "      <th>5725</th>\n",
              "      <td>734</td>\n",
              "      <td>NaN</td>\n",
              "      <td>Grêmio</td>\n",
              "      <td>nathan-fernandes</td>\n",
              "      <td>N. Fernandes</td>\n",
              "      <td>6</td>\n",
              "      <td>8</td>\n",
              "      <td>-0.30</td>\n",
              "      <td>Nathan Ribeiro Fernandes</td>\n",
              "      <td>1</td>\n",
              "      <td>284</td>\n",
              "      <td>0.0</td>\n",
              "      <td>https://s.sde.globo.com/media/person_role/2023...</td>\n",
              "      <td>0.10</td>\n",
              "      <td>5</td>\n",
              "      <td>0.70</td>\n",
              "      <td>0.0</td>\n",
              "      <td>124757</td>\n",
              "      <td>Nathan Fernandes</td>\n",
              "      <td>NaN</td>\n",
              "      <td>NaN</td>\n",
              "      <td>NaN</td>\n",
              "      <td>NaN</td>\n",
              "      <td>NaN</td>\n",
              "      <td>NaN</td>\n",
              "      <td>NaN</td>\n",
              "      <td>NaN</td>\n",
              "      <td>NaN</td>\n",
              "      <td>NaN</td>\n",
              "      <td>NaN</td>\n",
              "      <td>NaN</td>\n",
              "      <td>NaN</td>\n",
              "      <td>NaN</td>\n",
              "      <td>NaN</td>\n",
              "      <td>NaN</td>\n",
              "      <td>NaN</td>\n",
              "      <td>NaN</td>\n",
              "      <td>NaN</td>\n",
              "      <td>NaN</td>\n",
              "    </tr>\n",
              "    <tr>\n",
              "      <th>5726</th>\n",
              "      <td>735</td>\n",
              "      <td>NaN</td>\n",
              "      <td>Bragantino</td>\n",
              "      <td>gustavo-henrique</td>\n",
              "      <td>G. Henrique</td>\n",
              "      <td>6</td>\n",
              "      <td>8</td>\n",
              "      <td>0.00</td>\n",
              "      <td>Gustavo Henrique da Silva</td>\n",
              "      <td>0</td>\n",
              "      <td>280</td>\n",
              "      <td>0.0</td>\n",
              "      <td>https://s.sde.globo.com/media/person_role/2023...</td>\n",
              "      <td>1.12</td>\n",
              "      <td>3</td>\n",
              "      <td>1.00</td>\n",
              "      <td>0.0</td>\n",
              "      <td>124758</td>\n",
              "      <td>Gustavo Henrique</td>\n",
              "      <td>NaN</td>\n",
              "      <td>NaN</td>\n",
              "      <td>NaN</td>\n",
              "      <td>NaN</td>\n",
              "      <td>NaN</td>\n",
              "      <td>NaN</td>\n",
              "      <td>NaN</td>\n",
              "      <td>NaN</td>\n",
              "      <td>NaN</td>\n",
              "      <td>NaN</td>\n",
              "      <td>NaN</td>\n",
              "      <td>NaN</td>\n",
              "      <td>NaN</td>\n",
              "      <td>NaN</td>\n",
              "      <td>NaN</td>\n",
              "      <td>NaN</td>\n",
              "      <td>NaN</td>\n",
              "      <td>NaN</td>\n",
              "      <td>NaN</td>\n",
              "      <td>NaN</td>\n",
              "    </tr>\n",
              "    <tr>\n",
              "      <th>5727</th>\n",
              "      <td>736</td>\n",
              "      <td>NaN</td>\n",
              "      <td>Fluminense</td>\n",
              "      <td>kaua-elias</td>\n",
              "      <td>K. Elias</td>\n",
              "      <td>6</td>\n",
              "      <td>8</td>\n",
              "      <td>0.00</td>\n",
              "      <td>Kauã Elias Nogueira</td>\n",
              "      <td>0</td>\n",
              "      <td>266</td>\n",
              "      <td>0.0</td>\n",
              "      <td>https://s.sde.globo.com/media/person_role/2023...</td>\n",
              "      <td>0.10</td>\n",
              "      <td>5</td>\n",
              "      <td>1.00</td>\n",
              "      <td>0.0</td>\n",
              "      <td>124821</td>\n",
              "      <td>Kauã Elias</td>\n",
              "      <td>NaN</td>\n",
              "      <td>NaN</td>\n",
              "      <td>NaN</td>\n",
              "      <td>NaN</td>\n",
              "      <td>NaN</td>\n",
              "      <td>NaN</td>\n",
              "      <td>NaN</td>\n",
              "      <td>NaN</td>\n",
              "      <td>NaN</td>\n",
              "      <td>NaN</td>\n",
              "      <td>NaN</td>\n",
              "      <td>NaN</td>\n",
              "      <td>NaN</td>\n",
              "      <td>NaN</td>\n",
              "      <td>NaN</td>\n",
              "      <td>NaN</td>\n",
              "      <td>NaN</td>\n",
              "      <td>NaN</td>\n",
              "      <td>NaN</td>\n",
              "      <td>NaN</td>\n",
              "    </tr>\n",
              "    <tr>\n",
              "      <th>5728</th>\n",
              "      <td>737</td>\n",
              "      <td>NaN</td>\n",
              "      <td>Grêmio</td>\n",
              "      <td>lian</td>\n",
              "      <td>Lian</td>\n",
              "      <td>6</td>\n",
              "      <td>8</td>\n",
              "      <td>0.00</td>\n",
              "      <td>Lian dos Santos da Silva</td>\n",
              "      <td>0</td>\n",
              "      <td>284</td>\n",
              "      <td>0.0</td>\n",
              "      <td>https://s.sde.globo.com/media/person_role/2023...</td>\n",
              "      <td>0.10</td>\n",
              "      <td>5</td>\n",
              "      <td>1.00</td>\n",
              "      <td>0.0</td>\n",
              "      <td>124830</td>\n",
              "      <td>Lian</td>\n",
              "      <td>NaN</td>\n",
              "      <td>NaN</td>\n",
              "      <td>NaN</td>\n",
              "      <td>NaN</td>\n",
              "      <td>NaN</td>\n",
              "      <td>NaN</td>\n",
              "      <td>NaN</td>\n",
              "      <td>NaN</td>\n",
              "      <td>NaN</td>\n",
              "      <td>NaN</td>\n",
              "      <td>NaN</td>\n",
              "      <td>NaN</td>\n",
              "      <td>NaN</td>\n",
              "      <td>NaN</td>\n",
              "      <td>NaN</td>\n",
              "      <td>NaN</td>\n",
              "      <td>NaN</td>\n",
              "      <td>NaN</td>\n",
              "      <td>NaN</td>\n",
              "      <td>NaN</td>\n",
              "    </tr>\n",
              "    <tr>\n",
              "      <th>5729</th>\n",
              "      <td>738</td>\n",
              "      <td>NaN</td>\n",
              "      <td>Coritiba</td>\n",
              "      <td>ruan-assis</td>\n",
              "      <td>R. Assis</td>\n",
              "      <td>6</td>\n",
              "      <td>8</td>\n",
              "      <td>0.21</td>\n",
              "      <td>Ruan Lucas de Assis</td>\n",
              "      <td>1</td>\n",
              "      <td>294</td>\n",
              "      <td>1.2</td>\n",
              "      <td>https://s.sde.globo.com/media/person_role/2023...</td>\n",
              "      <td>0.81</td>\n",
              "      <td>4</td>\n",
              "      <td>1.21</td>\n",
              "      <td>1.2</td>\n",
              "      <td>124834</td>\n",
              "      <td>Ruan Assis</td>\n",
              "      <td>NaN</td>\n",
              "      <td>NaN</td>\n",
              "      <td>1.0</td>\n",
              "      <td>NaN</td>\n",
              "      <td>NaN</td>\n",
              "      <td>NaN</td>\n",
              "      <td>NaN</td>\n",
              "      <td>NaN</td>\n",
              "      <td>NaN</td>\n",
              "      <td>NaN</td>\n",
              "      <td>NaN</td>\n",
              "      <td>NaN</td>\n",
              "      <td>NaN</td>\n",
              "      <td>NaN</td>\n",
              "      <td>NaN</td>\n",
              "      <td>NaN</td>\n",
              "      <td>NaN</td>\n",
              "      <td>NaN</td>\n",
              "      <td>NaN</td>\n",
              "      <td>NaN</td>\n",
              "    </tr>\n",
              "  </tbody>\n",
              "</table>\n",
              "</div>"
            ],
            "text/plain": [
              "      Unnamed: 0  atletas.temporada_id atletas.clube.id.full.name  \\\n",
              "5725         734                   NaN                     Grêmio   \n",
              "5726         735                   NaN                 Bragantino   \n",
              "5727         736                   NaN                 Fluminense   \n",
              "5728         737                   NaN                     Grêmio   \n",
              "5729         738                   NaN                   Coritiba   \n",
              "\n",
              "          atletas.slug atletas.apelido_abreviado  atletas.status_id  \\\n",
              "5725  nathan-fernandes              N. Fernandes                  6   \n",
              "5726  gustavo-henrique               G. Henrique                  6   \n",
              "5727        kaua-elias                  K. Elias                  6   \n",
              "5728              lian                      Lian                  6   \n",
              "5729        ruan-assis                  R. Assis                  6   \n",
              "\n",
              "      atletas.rodada_id  atletas.variacao_num               atletas.nome  \\\n",
              "5725                  8                 -0.30   Nathan Ribeiro Fernandes   \n",
              "5726                  8                  0.00  Gustavo Henrique da Silva   \n",
              "5727                  8                  0.00        Kauã Elias Nogueira   \n",
              "5728                  8                  0.00   Lian dos Santos da Silva   \n",
              "5729                  8                  0.21        Ruan Lucas de Assis   \n",
              "\n",
              "      atletas.jogos_num  atletas.clube_id  atletas.pontos_num  \\\n",
              "5725                  1               284                 0.0   \n",
              "5726                  0               280                 0.0   \n",
              "5727                  0               266                 0.0   \n",
              "5728                  0               284                 0.0   \n",
              "5729                  1               294                 1.2   \n",
              "\n",
              "                                           atletas.foto  \\\n",
              "5725  https://s.sde.globo.com/media/person_role/2023...   \n",
              "5726  https://s.sde.globo.com/media/person_role/2023...   \n",
              "5727  https://s.sde.globo.com/media/person_role/2023...   \n",
              "5728  https://s.sde.globo.com/media/person_role/2023...   \n",
              "5729  https://s.sde.globo.com/media/person_role/2023...   \n",
              "\n",
              "      atletas.minimo_para_valorizar  atletas.posicao_id  atletas.preco_num  \\\n",
              "5725                           0.10                   5               0.70   \n",
              "5726                           1.12                   3               1.00   \n",
              "5727                           0.10                   5               1.00   \n",
              "5728                           0.10                   5               1.00   \n",
              "5729                           0.81                   4               1.21   \n",
              "\n",
              "      atletas.media_num  atletas.atleta_id   atletas.apelido  DS  FC   FD  FS  \\\n",
              "5725                0.0             124757  Nathan Fernandes NaN NaN  NaN NaN   \n",
              "5726                0.0             124758  Gustavo Henrique NaN NaN  NaN NaN   \n",
              "5727                0.0             124821        Kauã Elias NaN NaN  NaN NaN   \n",
              "5728                0.0             124830              Lian NaN NaN  NaN NaN   \n",
              "5729                1.2             124834        Ruan Assis NaN NaN  1.0 NaN   \n",
              "\n",
              "       G  SG  FF  CA   I  DE  GS  DP   A  FT  PC   V  PS  PP  CV  GC  \n",
              "5725 NaN NaN NaN NaN NaN NaN NaN NaN NaN NaN NaN NaN NaN NaN NaN NaN  \n",
              "5726 NaN NaN NaN NaN NaN NaN NaN NaN NaN NaN NaN NaN NaN NaN NaN NaN  \n",
              "5727 NaN NaN NaN NaN NaN NaN NaN NaN NaN NaN NaN NaN NaN NaN NaN NaN  \n",
              "5728 NaN NaN NaN NaN NaN NaN NaN NaN NaN NaN NaN NaN NaN NaN NaN NaN  \n",
              "5729 NaN NaN NaN NaN NaN NaN NaN NaN NaN NaN NaN NaN NaN NaN NaN NaN  "
            ]
          },
          "execution_count": 21,
          "metadata": {},
          "output_type": "execute_result"
        }
      ],
      "source": [
        "df_2023.tail()"
      ]
    },
    {
      "cell_type": "code",
      "execution_count": 17,
      "metadata": {
        "colab": {
          "base_uri": "https://localhost:8080/",
          "height": 34
        },
        "colab_type": "code",
        "id": "gu9ifgeuF6Po",
        "outputId": "f2f8c6c9-f6a8-4bda-eada-d7c1c9e39b0d"
      },
      "outputs": [
        {
          "data": {
            "text/plain": [
              "(5730, 39)"
            ]
          },
          "execution_count": 17,
          "metadata": {},
          "output_type": "execute_result"
        }
      ],
      "source": [
        "df_2023.shape"
      ]
    },
    {
      "cell_type": "code",
      "execution_count": 18,
      "metadata": {
        "colab": {
          "base_uri": "https://localhost:8080/",
          "height": 139
        },
        "colab_type": "code",
        "id": "bUpvkDqbF6Pu",
        "outputId": "bcf298a3-b8d9-4af9-df87-0a38d19cf49f"
      },
      "outputs": [
        {
          "data": {
            "text/plain": [
              "Index(['Unnamed: 0', 'atletas.temporada_id', 'atletas.clube.id.full.name',\n",
              "       'atletas.slug', 'atletas.apelido_abreviado', 'atletas.status_id',\n",
              "       'atletas.rodada_id', 'atletas.variacao_num', 'atletas.nome',\n",
              "       'atletas.jogos_num', 'atletas.clube_id', 'atletas.pontos_num',\n",
              "       'atletas.foto', 'atletas.minimo_para_valorizar', 'atletas.posicao_id',\n",
              "       'atletas.preco_num', 'atletas.media_num', 'atletas.atleta_id',\n",
              "       'atletas.apelido', 'DS', 'FC', 'FD', 'FS', 'G', 'SG', 'FF', 'CA', 'I',\n",
              "       'DE', 'GS', 'DP', 'A', 'FT', 'PC', 'V', 'PS', 'PP', 'CV', 'GC'],\n",
              "      dtype='object')"
            ]
          },
          "execution_count": 18,
          "metadata": {},
          "output_type": "execute_result"
        }
      ],
      "source": [
        "df_2023.columns"
      ]
    },
    {
      "cell_type": "markdown",
      "metadata": {
        "colab_type": "text",
        "id": "qsA2kPc0F6P1"
      },
      "source": [
        "Quantidade única de jogadores é do mesmo tamanho do Dataframe."
      ]
    },
    {
      "cell_type": "code",
      "execution_count": 23,
      "metadata": {
        "colab": {
          "base_uri": "https://localhost:8080/",
          "height": 34
        },
        "colab_type": "code",
        "id": "wfMY0JkOF6P1",
        "outputId": "66ff5e36-c889-4bac-8f12-f49515c65927"
      },
      "outputs": [
        {
          "name": "stdout",
          "output_type": "stream",
          "text": [
            "751\n"
          ]
        }
      ],
      "source": [
        "qtd_atletas = len(df_2023['atletas.atleta_id'].unique())\n",
        "print(qtd_atletas)"
      ]
    },
    {
      "cell_type": "markdown",
      "metadata": {
        "colab_type": "text",
        "id": "8V1jX0KJF6P7"
      },
      "source": [
        "Para o contexto desse estudo, vamos analisar cada posição utilizada no Cartola separadamente. Sendo assim criamos uma lista com todas as posições existentes no arquivo médias."
      ]
    },
    {
      "cell_type": "code",
      "execution_count": 31,
      "metadata": {
        "colab": {},
        "colab_type": "code",
        "id": "zYf8o4-KF6P7"
      },
      "outputs": [],
      "source": [
        "posicoes = df_2023['atletas.posicao_id'].unique()"
      ]
    },
    {
      "cell_type": "markdown",
      "metadata": {
        "colab_type": "text",
        "id": "K4ZrtH7mF6QB"
      },
      "source": [
        "Para facilitar a localização de cada jogador nas matrizes que construirmos, vamos criar um índice baseado no rankeamento do \"player_id\". Como teremos matrizes para cada posição, criamos um ranking para cada posição."
      ]
    },
    {
      "cell_type": "code",
      "execution_count": 36,
      "metadata": {
        "colab": {},
        "colab_type": "code",
        "id": "W7agVOLEF6QE"
      },
      "outputs": [],
      "source": [
        "df_2023['Rank'] = None\n",
        "for posicao in posicoes:\n",
        "    rank = df_2023[df_2023['atletas.posicao_id'] == posicao]['atletas.atleta_id'].rank(method='min')\n",
        "    rank = rank - 1\n",
        "    df_2023.iloc[rank.index,-1] = rank"
      ]
    },
    {
      "cell_type": "code",
      "execution_count": 38,
      "metadata": {
        "colab": {},
        "colab_type": "code",
        "id": "ZLp42eNcF6QI"
      },
      "outputs": [],
      "source": [
        "colunas_unicos = ['Rank','atletas.atleta_id','atletas.posicao_id']\n",
        "atletas = df_2023[colunas_unicos].drop_duplicates()"
      ]
    },
    {
      "cell_type": "code",
      "execution_count": 39,
      "metadata": {
        "colab": {
          "base_uri": "https://localhost:8080/",
          "height": 206
        },
        "colab_type": "code",
        "id": "tobo37eCF6QO",
        "outputId": "f3ab6d24-eb91-4314-c94b-c3262c22f499"
      },
      "outputs": [
        {
          "data": {
            "text/html": [
              "<div>\n",
              "<style scoped>\n",
              "    .dataframe tbody tr th:only-of-type {\n",
              "        vertical-align: middle;\n",
              "    }\n",
              "\n",
              "    .dataframe tbody tr th {\n",
              "        vertical-align: top;\n",
              "    }\n",
              "\n",
              "    .dataframe thead th {\n",
              "        text-align: right;\n",
              "    }\n",
              "</style>\n",
              "<table border=\"1\" class=\"dataframe\">\n",
              "  <thead>\n",
              "    <tr style=\"text-align: right;\">\n",
              "      <th></th>\n",
              "      <th>Rank</th>\n",
              "      <th>atletas.atleta_id</th>\n",
              "      <th>atletas.posicao_id</th>\n",
              "    </tr>\n",
              "  </thead>\n",
              "  <tbody>\n",
              "    <tr>\n",
              "      <th>0</th>\n",
              "      <td>0.0</td>\n",
              "      <td>37281</td>\n",
              "      <td>6</td>\n",
              "    </tr>\n",
              "    <tr>\n",
              "      <th>1</th>\n",
              "      <td>0.0</td>\n",
              "      <td>37656</td>\n",
              "      <td>1</td>\n",
              "    </tr>\n",
              "    <tr>\n",
              "      <th>2</th>\n",
              "      <td>0.0</td>\n",
              "      <td>37865</td>\n",
              "      <td>5</td>\n",
              "    </tr>\n",
              "    <tr>\n",
              "      <th>3</th>\n",
              "      <td>0.0</td>\n",
              "      <td>38144</td>\n",
              "      <td>2</td>\n",
              "    </tr>\n",
              "    <tr>\n",
              "      <th>4</th>\n",
              "      <td>8.0</td>\n",
              "      <td>38229</td>\n",
              "      <td>2</td>\n",
              "    </tr>\n",
              "  </tbody>\n",
              "</table>\n",
              "</div>"
            ],
            "text/plain": [
              "  Rank  atletas.atleta_id  atletas.posicao_id\n",
              "0  0.0              37281                   6\n",
              "1  0.0              37656                   1\n",
              "2  0.0              37865                   5\n",
              "3  0.0              38144                   2\n",
              "4  8.0              38229                   2"
            ]
          },
          "execution_count": 39,
          "metadata": {},
          "output_type": "execute_result"
        }
      ],
      "source": [
        "atletas.head()"
      ]
    },
    {
      "cell_type": "code",
      "execution_count": 40,
      "metadata": {
        "colab": {
          "base_uri": "https://localhost:8080/",
          "height": 34
        },
        "colab_type": "code",
        "id": "czNz-l_9F6QT",
        "outputId": "bb589eec-0495-4f4f-e826-eb54450aab99"
      },
      "outputs": [
        {
          "data": {
            "text/plain": [
              "(751, 3)"
            ]
          },
          "execution_count": 40,
          "metadata": {},
          "output_type": "execute_result"
        }
      ],
      "source": [
        "atletas.shape"
      ]
    },
    {
      "cell_type": "markdown",
      "metadata": {
        "colab_type": "text",
        "id": "Iv97EX2hF6QZ"
      },
      "source": [
        "# Partidas"
      ]
    },
    {
      "cell_type": "markdown",
      "metadata": {
        "colab_type": "text",
        "id": "ZeamE5YLF6Qa"
      },
      "source": [
        "Os resultados das partidas irão gerar informações para a matriz de transição, sendo assim utilizamos o arquivo com todas as partidas de 2019 e selecionamos treino e teste mais adiante."
      ]
    },
    {
      "cell_type": "code",
      "execution_count": 25,
      "metadata": {
        "colab": {},
        "colab_type": "code",
        "id": "st4eN5scF6Qb"
      },
      "outputs": [
        {
          "ename": "HTTPError",
          "evalue": "HTTP Error 404: Not Found",
          "output_type": "error",
          "traceback": [
            "\u001b[1;31m---------------------------------------------------------------------------\u001b[0m",
            "\u001b[1;31mHTTPError\u001b[0m                                 Traceback (most recent call last)",
            "\u001b[1;32m~\\AppData\\Local\\Temp/ipykernel_1644/4115009364.py\u001b[0m in \u001b[0;36m<module>\u001b[1;34m\u001b[0m\n\u001b[1;32m----> 1\u001b[1;33m \u001b[0mpartidas\u001b[0m \u001b[1;33m=\u001b[0m \u001b[0mpd\u001b[0m\u001b[1;33m.\u001b[0m\u001b[0mread_csv\u001b[0m\u001b[1;33m(\u001b[0m\u001b[1;34mr'https://raw.githubusercontent.com/henriquepgomide/caRtola/master/data/2019/2019_partidas.csv'\u001b[0m\u001b[1;33m)\u001b[0m\u001b[1;33m\u001b[0m\u001b[1;33m\u001b[0m\u001b[0m\n\u001b[0m",
            "\u001b[1;32mc:\\Users\\Jhona\\AppData\\Local\\Programs\\Python\\Python310\\lib\\site-packages\\pandas\\util\\_decorators.py\u001b[0m in \u001b[0;36mwrapper\u001b[1;34m(*args, **kwargs)\u001b[0m\n\u001b[0;32m    209\u001b[0m                 \u001b[1;32melse\u001b[0m\u001b[1;33m:\u001b[0m\u001b[1;33m\u001b[0m\u001b[1;33m\u001b[0m\u001b[0m\n\u001b[0;32m    210\u001b[0m                     \u001b[0mkwargs\u001b[0m\u001b[1;33m[\u001b[0m\u001b[0mnew_arg_name\u001b[0m\u001b[1;33m]\u001b[0m \u001b[1;33m=\u001b[0m \u001b[0mnew_arg_value\u001b[0m\u001b[1;33m\u001b[0m\u001b[1;33m\u001b[0m\u001b[0m\n\u001b[1;32m--> 211\u001b[1;33m             \u001b[1;32mreturn\u001b[0m \u001b[0mfunc\u001b[0m\u001b[1;33m(\u001b[0m\u001b[1;33m*\u001b[0m\u001b[0margs\u001b[0m\u001b[1;33m,\u001b[0m \u001b[1;33m**\u001b[0m\u001b[0mkwargs\u001b[0m\u001b[1;33m)\u001b[0m\u001b[1;33m\u001b[0m\u001b[1;33m\u001b[0m\u001b[0m\n\u001b[0m\u001b[0;32m    212\u001b[0m \u001b[1;33m\u001b[0m\u001b[0m\n\u001b[0;32m    213\u001b[0m         \u001b[1;32mreturn\u001b[0m \u001b[0mcast\u001b[0m\u001b[1;33m(\u001b[0m\u001b[0mF\u001b[0m\u001b[1;33m,\u001b[0m \u001b[0mwrapper\u001b[0m\u001b[1;33m)\u001b[0m\u001b[1;33m\u001b[0m\u001b[1;33m\u001b[0m\u001b[0m\n",
            "\u001b[1;32mc:\\Users\\Jhona\\AppData\\Local\\Programs\\Python\\Python310\\lib\\site-packages\\pandas\\util\\_decorators.py\u001b[0m in \u001b[0;36mwrapper\u001b[1;34m(*args, **kwargs)\u001b[0m\n\u001b[0;32m    329\u001b[0m                     \u001b[0mstacklevel\u001b[0m\u001b[1;33m=\u001b[0m\u001b[0mfind_stack_level\u001b[0m\u001b[1;33m(\u001b[0m\u001b[1;33m)\u001b[0m\u001b[1;33m,\u001b[0m\u001b[1;33m\u001b[0m\u001b[1;33m\u001b[0m\u001b[0m\n\u001b[0;32m    330\u001b[0m                 )\n\u001b[1;32m--> 331\u001b[1;33m             \u001b[1;32mreturn\u001b[0m \u001b[0mfunc\u001b[0m\u001b[1;33m(\u001b[0m\u001b[1;33m*\u001b[0m\u001b[0margs\u001b[0m\u001b[1;33m,\u001b[0m \u001b[1;33m**\u001b[0m\u001b[0mkwargs\u001b[0m\u001b[1;33m)\u001b[0m\u001b[1;33m\u001b[0m\u001b[1;33m\u001b[0m\u001b[0m\n\u001b[0m\u001b[0;32m    332\u001b[0m \u001b[1;33m\u001b[0m\u001b[0m\n\u001b[0;32m    333\u001b[0m         \u001b[1;31m# error: \"Callable[[VarArg(Any), KwArg(Any)], Any]\" has no\u001b[0m\u001b[1;33m\u001b[0m\u001b[1;33m\u001b[0m\u001b[0m\n",
            "\u001b[1;32mc:\\Users\\Jhona\\AppData\\Local\\Programs\\Python\\Python310\\lib\\site-packages\\pandas\\io\\parsers\\readers.py\u001b[0m in \u001b[0;36mread_csv\u001b[1;34m(filepath_or_buffer, sep, delimiter, header, names, index_col, usecols, squeeze, prefix, mangle_dupe_cols, dtype, engine, converters, true_values, false_values, skipinitialspace, skiprows, skipfooter, nrows, na_values, keep_default_na, na_filter, verbose, skip_blank_lines, parse_dates, infer_datetime_format, keep_date_col, date_parser, dayfirst, cache_dates, iterator, chunksize, compression, thousands, decimal, lineterminator, quotechar, quoting, doublequote, escapechar, comment, encoding, encoding_errors, dialect, error_bad_lines, warn_bad_lines, on_bad_lines, delim_whitespace, low_memory, memory_map, float_precision, storage_options)\u001b[0m\n\u001b[0;32m    948\u001b[0m     \u001b[0mkwds\u001b[0m\u001b[1;33m.\u001b[0m\u001b[0mupdate\u001b[0m\u001b[1;33m(\u001b[0m\u001b[0mkwds_defaults\u001b[0m\u001b[1;33m)\u001b[0m\u001b[1;33m\u001b[0m\u001b[1;33m\u001b[0m\u001b[0m\n\u001b[0;32m    949\u001b[0m \u001b[1;33m\u001b[0m\u001b[0m\n\u001b[1;32m--> 950\u001b[1;33m     \u001b[1;32mreturn\u001b[0m \u001b[0m_read\u001b[0m\u001b[1;33m(\u001b[0m\u001b[0mfilepath_or_buffer\u001b[0m\u001b[1;33m,\u001b[0m \u001b[0mkwds\u001b[0m\u001b[1;33m)\u001b[0m\u001b[1;33m\u001b[0m\u001b[1;33m\u001b[0m\u001b[0m\n\u001b[0m\u001b[0;32m    951\u001b[0m \u001b[1;33m\u001b[0m\u001b[0m\n\u001b[0;32m    952\u001b[0m \u001b[1;33m\u001b[0m\u001b[0m\n",
            "\u001b[1;32mc:\\Users\\Jhona\\AppData\\Local\\Programs\\Python\\Python310\\lib\\site-packages\\pandas\\io\\parsers\\readers.py\u001b[0m in \u001b[0;36m_read\u001b[1;34m(filepath_or_buffer, kwds)\u001b[0m\n\u001b[0;32m    603\u001b[0m \u001b[1;33m\u001b[0m\u001b[0m\n\u001b[0;32m    604\u001b[0m     \u001b[1;31m# Create the parser.\u001b[0m\u001b[1;33m\u001b[0m\u001b[1;33m\u001b[0m\u001b[0m\n\u001b[1;32m--> 605\u001b[1;33m     \u001b[0mparser\u001b[0m \u001b[1;33m=\u001b[0m \u001b[0mTextFileReader\u001b[0m\u001b[1;33m(\u001b[0m\u001b[0mfilepath_or_buffer\u001b[0m\u001b[1;33m,\u001b[0m \u001b[1;33m**\u001b[0m\u001b[0mkwds\u001b[0m\u001b[1;33m)\u001b[0m\u001b[1;33m\u001b[0m\u001b[1;33m\u001b[0m\u001b[0m\n\u001b[0m\u001b[0;32m    606\u001b[0m \u001b[1;33m\u001b[0m\u001b[0m\n\u001b[0;32m    607\u001b[0m     \u001b[1;32mif\u001b[0m \u001b[0mchunksize\u001b[0m \u001b[1;32mor\u001b[0m \u001b[0miterator\u001b[0m\u001b[1;33m:\u001b[0m\u001b[1;33m\u001b[0m\u001b[1;33m\u001b[0m\u001b[0m\n",
            "\u001b[1;32mc:\\Users\\Jhona\\AppData\\Local\\Programs\\Python\\Python310\\lib\\site-packages\\pandas\\io\\parsers\\readers.py\u001b[0m in \u001b[0;36m__init__\u001b[1;34m(self, f, engine, **kwds)\u001b[0m\n\u001b[0;32m   1440\u001b[0m \u001b[1;33m\u001b[0m\u001b[0m\n\u001b[0;32m   1441\u001b[0m         \u001b[0mself\u001b[0m\u001b[1;33m.\u001b[0m\u001b[0mhandles\u001b[0m\u001b[1;33m:\u001b[0m \u001b[0mIOHandles\u001b[0m \u001b[1;33m|\u001b[0m \u001b[1;32mNone\u001b[0m \u001b[1;33m=\u001b[0m \u001b[1;32mNone\u001b[0m\u001b[1;33m\u001b[0m\u001b[1;33m\u001b[0m\u001b[0m\n\u001b[1;32m-> 1442\u001b[1;33m         \u001b[0mself\u001b[0m\u001b[1;33m.\u001b[0m\u001b[0m_engine\u001b[0m \u001b[1;33m=\u001b[0m \u001b[0mself\u001b[0m\u001b[1;33m.\u001b[0m\u001b[0m_make_engine\u001b[0m\u001b[1;33m(\u001b[0m\u001b[0mf\u001b[0m\u001b[1;33m,\u001b[0m \u001b[0mself\u001b[0m\u001b[1;33m.\u001b[0m\u001b[0mengine\u001b[0m\u001b[1;33m)\u001b[0m\u001b[1;33m\u001b[0m\u001b[1;33m\u001b[0m\u001b[0m\n\u001b[0m\u001b[0;32m   1443\u001b[0m \u001b[1;33m\u001b[0m\u001b[0m\n\u001b[0;32m   1444\u001b[0m     \u001b[1;32mdef\u001b[0m \u001b[0mclose\u001b[0m\u001b[1;33m(\u001b[0m\u001b[0mself\u001b[0m\u001b[1;33m)\u001b[0m \u001b[1;33m->\u001b[0m \u001b[1;32mNone\u001b[0m\u001b[1;33m:\u001b[0m\u001b[1;33m\u001b[0m\u001b[1;33m\u001b[0m\u001b[0m\n",
            "\u001b[1;32mc:\\Users\\Jhona\\AppData\\Local\\Programs\\Python\\Python310\\lib\\site-packages\\pandas\\io\\parsers\\readers.py\u001b[0m in \u001b[0;36m_make_engine\u001b[1;34m(self, f, engine)\u001b[0m\n\u001b[0;32m   1733\u001b[0m                 \u001b[1;32mif\u001b[0m \u001b[1;34m\"b\"\u001b[0m \u001b[1;32mnot\u001b[0m \u001b[1;32min\u001b[0m \u001b[0mmode\u001b[0m\u001b[1;33m:\u001b[0m\u001b[1;33m\u001b[0m\u001b[1;33m\u001b[0m\u001b[0m\n\u001b[0;32m   1734\u001b[0m                     \u001b[0mmode\u001b[0m \u001b[1;33m+=\u001b[0m \u001b[1;34m\"b\"\u001b[0m\u001b[1;33m\u001b[0m\u001b[1;33m\u001b[0m\u001b[0m\n\u001b[1;32m-> 1735\u001b[1;33m             self.handles = get_handle(\n\u001b[0m\u001b[0;32m   1736\u001b[0m                 \u001b[0mf\u001b[0m\u001b[1;33m,\u001b[0m\u001b[1;33m\u001b[0m\u001b[1;33m\u001b[0m\u001b[0m\n\u001b[0;32m   1737\u001b[0m                 \u001b[0mmode\u001b[0m\u001b[1;33m,\u001b[0m\u001b[1;33m\u001b[0m\u001b[1;33m\u001b[0m\u001b[0m\n",
            "\u001b[1;32mc:\\Users\\Jhona\\AppData\\Local\\Programs\\Python\\Python310\\lib\\site-packages\\pandas\\io\\common.py\u001b[0m in \u001b[0;36mget_handle\u001b[1;34m(path_or_buf, mode, encoding, compression, memory_map, is_text, errors, storage_options)\u001b[0m\n\u001b[0;32m    711\u001b[0m \u001b[1;33m\u001b[0m\u001b[0m\n\u001b[0;32m    712\u001b[0m     \u001b[1;31m# open URLs\u001b[0m\u001b[1;33m\u001b[0m\u001b[1;33m\u001b[0m\u001b[0m\n\u001b[1;32m--> 713\u001b[1;33m     ioargs = _get_filepath_or_buffer(\n\u001b[0m\u001b[0;32m    714\u001b[0m         \u001b[0mpath_or_buf\u001b[0m\u001b[1;33m,\u001b[0m\u001b[1;33m\u001b[0m\u001b[1;33m\u001b[0m\u001b[0m\n\u001b[0;32m    715\u001b[0m         \u001b[0mencoding\u001b[0m\u001b[1;33m=\u001b[0m\u001b[0mencoding\u001b[0m\u001b[1;33m,\u001b[0m\u001b[1;33m\u001b[0m\u001b[1;33m\u001b[0m\u001b[0m\n",
            "\u001b[1;32mc:\\Users\\Jhona\\AppData\\Local\\Programs\\Python\\Python310\\lib\\site-packages\\pandas\\io\\common.py\u001b[0m in \u001b[0;36m_get_filepath_or_buffer\u001b[1;34m(filepath_or_buffer, encoding, compression, mode, storage_options)\u001b[0m\n\u001b[0;32m    361\u001b[0m         \u001b[1;31m# assuming storage_options is to be interpreted as headers\u001b[0m\u001b[1;33m\u001b[0m\u001b[1;33m\u001b[0m\u001b[0m\n\u001b[0;32m    362\u001b[0m         \u001b[0mreq_info\u001b[0m \u001b[1;33m=\u001b[0m \u001b[0murllib\u001b[0m\u001b[1;33m.\u001b[0m\u001b[0mrequest\u001b[0m\u001b[1;33m.\u001b[0m\u001b[0mRequest\u001b[0m\u001b[1;33m(\u001b[0m\u001b[0mfilepath_or_buffer\u001b[0m\u001b[1;33m,\u001b[0m \u001b[0mheaders\u001b[0m\u001b[1;33m=\u001b[0m\u001b[0mstorage_options\u001b[0m\u001b[1;33m)\u001b[0m\u001b[1;33m\u001b[0m\u001b[1;33m\u001b[0m\u001b[0m\n\u001b[1;32m--> 363\u001b[1;33m         \u001b[1;32mwith\u001b[0m \u001b[0murlopen\u001b[0m\u001b[1;33m(\u001b[0m\u001b[0mreq_info\u001b[0m\u001b[1;33m)\u001b[0m \u001b[1;32mas\u001b[0m \u001b[0mreq\u001b[0m\u001b[1;33m:\u001b[0m\u001b[1;33m\u001b[0m\u001b[1;33m\u001b[0m\u001b[0m\n\u001b[0m\u001b[0;32m    364\u001b[0m             \u001b[0mcontent_encoding\u001b[0m \u001b[1;33m=\u001b[0m \u001b[0mreq\u001b[0m\u001b[1;33m.\u001b[0m\u001b[0mheaders\u001b[0m\u001b[1;33m.\u001b[0m\u001b[0mget\u001b[0m\u001b[1;33m(\u001b[0m\u001b[1;34m\"Content-Encoding\"\u001b[0m\u001b[1;33m,\u001b[0m \u001b[1;32mNone\u001b[0m\u001b[1;33m)\u001b[0m\u001b[1;33m\u001b[0m\u001b[1;33m\u001b[0m\u001b[0m\n\u001b[0;32m    365\u001b[0m             \u001b[1;32mif\u001b[0m \u001b[0mcontent_encoding\u001b[0m \u001b[1;33m==\u001b[0m \u001b[1;34m\"gzip\"\u001b[0m\u001b[1;33m:\u001b[0m\u001b[1;33m\u001b[0m\u001b[1;33m\u001b[0m\u001b[0m\n",
            "\u001b[1;32mc:\\Users\\Jhona\\AppData\\Local\\Programs\\Python\\Python310\\lib\\site-packages\\pandas\\io\\common.py\u001b[0m in \u001b[0;36murlopen\u001b[1;34m(*args, **kwargs)\u001b[0m\n\u001b[0;32m    263\u001b[0m     \u001b[1;32mimport\u001b[0m \u001b[0murllib\u001b[0m\u001b[1;33m.\u001b[0m\u001b[0mrequest\u001b[0m\u001b[1;33m\u001b[0m\u001b[1;33m\u001b[0m\u001b[0m\n\u001b[0;32m    264\u001b[0m \u001b[1;33m\u001b[0m\u001b[0m\n\u001b[1;32m--> 265\u001b[1;33m     \u001b[1;32mreturn\u001b[0m \u001b[0murllib\u001b[0m\u001b[1;33m.\u001b[0m\u001b[0mrequest\u001b[0m\u001b[1;33m.\u001b[0m\u001b[0murlopen\u001b[0m\u001b[1;33m(\u001b[0m\u001b[1;33m*\u001b[0m\u001b[0margs\u001b[0m\u001b[1;33m,\u001b[0m \u001b[1;33m**\u001b[0m\u001b[0mkwargs\u001b[0m\u001b[1;33m)\u001b[0m\u001b[1;33m\u001b[0m\u001b[1;33m\u001b[0m\u001b[0m\n\u001b[0m\u001b[0;32m    266\u001b[0m \u001b[1;33m\u001b[0m\u001b[0m\n\u001b[0;32m    267\u001b[0m \u001b[1;33m\u001b[0m\u001b[0m\n",
            "\u001b[1;32mc:\\Users\\Jhona\\AppData\\Local\\Programs\\Python\\Python310\\lib\\urllib\\request.py\u001b[0m in \u001b[0;36murlopen\u001b[1;34m(url, data, timeout, cafile, capath, cadefault, context)\u001b[0m\n\u001b[0;32m    214\u001b[0m     \u001b[1;32melse\u001b[0m\u001b[1;33m:\u001b[0m\u001b[1;33m\u001b[0m\u001b[1;33m\u001b[0m\u001b[0m\n\u001b[0;32m    215\u001b[0m         \u001b[0mopener\u001b[0m \u001b[1;33m=\u001b[0m \u001b[0m_opener\u001b[0m\u001b[1;33m\u001b[0m\u001b[1;33m\u001b[0m\u001b[0m\n\u001b[1;32m--> 216\u001b[1;33m     \u001b[1;32mreturn\u001b[0m \u001b[0mopener\u001b[0m\u001b[1;33m.\u001b[0m\u001b[0mopen\u001b[0m\u001b[1;33m(\u001b[0m\u001b[0murl\u001b[0m\u001b[1;33m,\u001b[0m \u001b[0mdata\u001b[0m\u001b[1;33m,\u001b[0m \u001b[0mtimeout\u001b[0m\u001b[1;33m)\u001b[0m\u001b[1;33m\u001b[0m\u001b[1;33m\u001b[0m\u001b[0m\n\u001b[0m\u001b[0;32m    217\u001b[0m \u001b[1;33m\u001b[0m\u001b[0m\n\u001b[0;32m    218\u001b[0m \u001b[1;32mdef\u001b[0m \u001b[0minstall_opener\u001b[0m\u001b[1;33m(\u001b[0m\u001b[0mopener\u001b[0m\u001b[1;33m)\u001b[0m\u001b[1;33m:\u001b[0m\u001b[1;33m\u001b[0m\u001b[1;33m\u001b[0m\u001b[0m\n",
            "\u001b[1;32mc:\\Users\\Jhona\\AppData\\Local\\Programs\\Python\\Python310\\lib\\urllib\\request.py\u001b[0m in \u001b[0;36mopen\u001b[1;34m(self, fullurl, data, timeout)\u001b[0m\n\u001b[0;32m    523\u001b[0m         \u001b[1;32mfor\u001b[0m \u001b[0mprocessor\u001b[0m \u001b[1;32min\u001b[0m \u001b[0mself\u001b[0m\u001b[1;33m.\u001b[0m\u001b[0mprocess_response\u001b[0m\u001b[1;33m.\u001b[0m\u001b[0mget\u001b[0m\u001b[1;33m(\u001b[0m\u001b[0mprotocol\u001b[0m\u001b[1;33m,\u001b[0m \u001b[1;33m[\u001b[0m\u001b[1;33m]\u001b[0m\u001b[1;33m)\u001b[0m\u001b[1;33m:\u001b[0m\u001b[1;33m\u001b[0m\u001b[1;33m\u001b[0m\u001b[0m\n\u001b[0;32m    524\u001b[0m             \u001b[0mmeth\u001b[0m \u001b[1;33m=\u001b[0m \u001b[0mgetattr\u001b[0m\u001b[1;33m(\u001b[0m\u001b[0mprocessor\u001b[0m\u001b[1;33m,\u001b[0m \u001b[0mmeth_name\u001b[0m\u001b[1;33m)\u001b[0m\u001b[1;33m\u001b[0m\u001b[1;33m\u001b[0m\u001b[0m\n\u001b[1;32m--> 525\u001b[1;33m             \u001b[0mresponse\u001b[0m \u001b[1;33m=\u001b[0m \u001b[0mmeth\u001b[0m\u001b[1;33m(\u001b[0m\u001b[0mreq\u001b[0m\u001b[1;33m,\u001b[0m \u001b[0mresponse\u001b[0m\u001b[1;33m)\u001b[0m\u001b[1;33m\u001b[0m\u001b[1;33m\u001b[0m\u001b[0m\n\u001b[0m\u001b[0;32m    526\u001b[0m \u001b[1;33m\u001b[0m\u001b[0m\n\u001b[0;32m    527\u001b[0m         \u001b[1;32mreturn\u001b[0m \u001b[0mresponse\u001b[0m\u001b[1;33m\u001b[0m\u001b[1;33m\u001b[0m\u001b[0m\n",
            "\u001b[1;32mc:\\Users\\Jhona\\AppData\\Local\\Programs\\Python\\Python310\\lib\\urllib\\request.py\u001b[0m in \u001b[0;36mhttp_response\u001b[1;34m(self, request, response)\u001b[0m\n\u001b[0;32m    632\u001b[0m         \u001b[1;31m# request was successfully received, understood, and accepted.\u001b[0m\u001b[1;33m\u001b[0m\u001b[1;33m\u001b[0m\u001b[0m\n\u001b[0;32m    633\u001b[0m         \u001b[1;32mif\u001b[0m \u001b[1;32mnot\u001b[0m \u001b[1;33m(\u001b[0m\u001b[1;36m200\u001b[0m \u001b[1;33m<=\u001b[0m \u001b[0mcode\u001b[0m \u001b[1;33m<\u001b[0m \u001b[1;36m300\u001b[0m\u001b[1;33m)\u001b[0m\u001b[1;33m:\u001b[0m\u001b[1;33m\u001b[0m\u001b[1;33m\u001b[0m\u001b[0m\n\u001b[1;32m--> 634\u001b[1;33m             response = self.parent.error(\n\u001b[0m\u001b[0;32m    635\u001b[0m                 'http', request, response, code, msg, hdrs)\n\u001b[0;32m    636\u001b[0m \u001b[1;33m\u001b[0m\u001b[0m\n",
            "\u001b[1;32mc:\\Users\\Jhona\\AppData\\Local\\Programs\\Python\\Python310\\lib\\urllib\\request.py\u001b[0m in \u001b[0;36merror\u001b[1;34m(self, proto, *args)\u001b[0m\n\u001b[0;32m    561\u001b[0m         \u001b[1;32mif\u001b[0m \u001b[0mhttp_err\u001b[0m\u001b[1;33m:\u001b[0m\u001b[1;33m\u001b[0m\u001b[1;33m\u001b[0m\u001b[0m\n\u001b[0;32m    562\u001b[0m             \u001b[0margs\u001b[0m \u001b[1;33m=\u001b[0m \u001b[1;33m(\u001b[0m\u001b[0mdict\u001b[0m\u001b[1;33m,\u001b[0m \u001b[1;34m'default'\u001b[0m\u001b[1;33m,\u001b[0m \u001b[1;34m'http_error_default'\u001b[0m\u001b[1;33m)\u001b[0m \u001b[1;33m+\u001b[0m \u001b[0morig_args\u001b[0m\u001b[1;33m\u001b[0m\u001b[1;33m\u001b[0m\u001b[0m\n\u001b[1;32m--> 563\u001b[1;33m             \u001b[1;32mreturn\u001b[0m \u001b[0mself\u001b[0m\u001b[1;33m.\u001b[0m\u001b[0m_call_chain\u001b[0m\u001b[1;33m(\u001b[0m\u001b[1;33m*\u001b[0m\u001b[0margs\u001b[0m\u001b[1;33m)\u001b[0m\u001b[1;33m\u001b[0m\u001b[1;33m\u001b[0m\u001b[0m\n\u001b[0m\u001b[0;32m    564\u001b[0m \u001b[1;33m\u001b[0m\u001b[0m\n\u001b[0;32m    565\u001b[0m \u001b[1;31m# XXX probably also want an abstract factory that knows when it makes\u001b[0m\u001b[1;33m\u001b[0m\u001b[1;33m\u001b[0m\u001b[0m\n",
            "\u001b[1;32mc:\\Users\\Jhona\\AppData\\Local\\Programs\\Python\\Python310\\lib\\urllib\\request.py\u001b[0m in \u001b[0;36m_call_chain\u001b[1;34m(self, chain, kind, meth_name, *args)\u001b[0m\n\u001b[0;32m    494\u001b[0m         \u001b[1;32mfor\u001b[0m \u001b[0mhandler\u001b[0m \u001b[1;32min\u001b[0m \u001b[0mhandlers\u001b[0m\u001b[1;33m:\u001b[0m\u001b[1;33m\u001b[0m\u001b[1;33m\u001b[0m\u001b[0m\n\u001b[0;32m    495\u001b[0m             \u001b[0mfunc\u001b[0m \u001b[1;33m=\u001b[0m \u001b[0mgetattr\u001b[0m\u001b[1;33m(\u001b[0m\u001b[0mhandler\u001b[0m\u001b[1;33m,\u001b[0m \u001b[0mmeth_name\u001b[0m\u001b[1;33m)\u001b[0m\u001b[1;33m\u001b[0m\u001b[1;33m\u001b[0m\u001b[0m\n\u001b[1;32m--> 496\u001b[1;33m             \u001b[0mresult\u001b[0m \u001b[1;33m=\u001b[0m \u001b[0mfunc\u001b[0m\u001b[1;33m(\u001b[0m\u001b[1;33m*\u001b[0m\u001b[0margs\u001b[0m\u001b[1;33m)\u001b[0m\u001b[1;33m\u001b[0m\u001b[1;33m\u001b[0m\u001b[0m\n\u001b[0m\u001b[0;32m    497\u001b[0m             \u001b[1;32mif\u001b[0m \u001b[0mresult\u001b[0m \u001b[1;32mis\u001b[0m \u001b[1;32mnot\u001b[0m \u001b[1;32mNone\u001b[0m\u001b[1;33m:\u001b[0m\u001b[1;33m\u001b[0m\u001b[1;33m\u001b[0m\u001b[0m\n\u001b[0;32m    498\u001b[0m                 \u001b[1;32mreturn\u001b[0m \u001b[0mresult\u001b[0m\u001b[1;33m\u001b[0m\u001b[1;33m\u001b[0m\u001b[0m\n",
            "\u001b[1;32mc:\\Users\\Jhona\\AppData\\Local\\Programs\\Python\\Python310\\lib\\urllib\\request.py\u001b[0m in \u001b[0;36mhttp_error_default\u001b[1;34m(self, req, fp, code, msg, hdrs)\u001b[0m\n\u001b[0;32m    641\u001b[0m \u001b[1;32mclass\u001b[0m \u001b[0mHTTPDefaultErrorHandler\u001b[0m\u001b[1;33m(\u001b[0m\u001b[0mBaseHandler\u001b[0m\u001b[1;33m)\u001b[0m\u001b[1;33m:\u001b[0m\u001b[1;33m\u001b[0m\u001b[1;33m\u001b[0m\u001b[0m\n\u001b[0;32m    642\u001b[0m     \u001b[1;32mdef\u001b[0m \u001b[0mhttp_error_default\u001b[0m\u001b[1;33m(\u001b[0m\u001b[0mself\u001b[0m\u001b[1;33m,\u001b[0m \u001b[0mreq\u001b[0m\u001b[1;33m,\u001b[0m \u001b[0mfp\u001b[0m\u001b[1;33m,\u001b[0m \u001b[0mcode\u001b[0m\u001b[1;33m,\u001b[0m \u001b[0mmsg\u001b[0m\u001b[1;33m,\u001b[0m \u001b[0mhdrs\u001b[0m\u001b[1;33m)\u001b[0m\u001b[1;33m:\u001b[0m\u001b[1;33m\u001b[0m\u001b[1;33m\u001b[0m\u001b[0m\n\u001b[1;32m--> 643\u001b[1;33m         \u001b[1;32mraise\u001b[0m \u001b[0mHTTPError\u001b[0m\u001b[1;33m(\u001b[0m\u001b[0mreq\u001b[0m\u001b[1;33m.\u001b[0m\u001b[0mfull_url\u001b[0m\u001b[1;33m,\u001b[0m \u001b[0mcode\u001b[0m\u001b[1;33m,\u001b[0m \u001b[0mmsg\u001b[0m\u001b[1;33m,\u001b[0m \u001b[0mhdrs\u001b[0m\u001b[1;33m,\u001b[0m \u001b[0mfp\u001b[0m\u001b[1;33m)\u001b[0m\u001b[1;33m\u001b[0m\u001b[1;33m\u001b[0m\u001b[0m\n\u001b[0m\u001b[0;32m    644\u001b[0m \u001b[1;33m\u001b[0m\u001b[0m\n\u001b[0;32m    645\u001b[0m \u001b[1;32mclass\u001b[0m \u001b[0mHTTPRedirectHandler\u001b[0m\u001b[1;33m(\u001b[0m\u001b[0mBaseHandler\u001b[0m\u001b[1;33m)\u001b[0m\u001b[1;33m:\u001b[0m\u001b[1;33m\u001b[0m\u001b[1;33m\u001b[0m\u001b[0m\n",
            "\u001b[1;31mHTTPError\u001b[0m: HTTP Error 404: Not Found"
          ]
        }
      ],
      "source": [
        "partidas = pd.read_csv(r'https://raw.githubusercontent.com/henriquepgomide/caRtola/master/data/2019/2019_partidas.csv')"
      ]
    },
    {
      "cell_type": "markdown",
      "metadata": {
        "colab_type": "text",
        "id": "q62SNCmtF6Qf"
      },
      "source": [
        "Uma das hipóteses testadas nesse estudo, é o impacto da quantidade de gols do time na performance do jogador. Para facilitar a utilização desses dados, vamos normalizar as colunas de quantidade de gols dos time de casa e visitante."
      ]
    },
    {
      "cell_type": "code",
      "execution_count": null,
      "metadata": {
        "colab": {},
        "colab_type": "code",
        "id": "jMW7R8nLF6Qh"
      },
      "outputs": [],
      "source": [
        "partidas['home_score_norm'] = partidas['home_score'] / max(partidas['home_score'])\n",
        "partidas['away_score_norm'] = partidas['away_score'] / max(partidas['away_score'])"
      ]
    },
    {
      "cell_type": "code",
      "execution_count": null,
      "metadata": {
        "colab": {},
        "colab_type": "code",
        "id": "s5y6fhQNF6Qm",
        "outputId": "4a9bb7ce-5bee-4eb3-cc27-a7300375f9ee"
      },
      "outputs": [
        {
          "data": {
            "text/html": [
              "<div>\n",
              "<style scoped>\n",
              "    .dataframe tbody tr th:only-of-type {\n",
              "        vertical-align: middle;\n",
              "    }\n",
              "\n",
              "    .dataframe tbody tr th {\n",
              "        vertical-align: top;\n",
              "    }\n",
              "\n",
              "    .dataframe thead th {\n",
              "        text-align: right;\n",
              "    }\n",
              "</style>\n",
              "<table border=\"1\" class=\"dataframe\">\n",
              "  <thead>\n",
              "    <tr style=\"text-align: right;\">\n",
              "      <th></th>\n",
              "      <th>date</th>\n",
              "      <th>home_team</th>\n",
              "      <th>away_team</th>\n",
              "      <th>home_score</th>\n",
              "      <th>away_score</th>\n",
              "      <th>round</th>\n",
              "      <th>home_score_norm</th>\n",
              "      <th>away_score_norm</th>\n",
              "    </tr>\n",
              "  </thead>\n",
              "  <tbody>\n",
              "    <tr>\n",
              "      <th>0</th>\n",
              "      <td>2019-04-28</td>\n",
              "      <td>284</td>\n",
              "      <td>277</td>\n",
              "      <td>1</td>\n",
              "      <td>2</td>\n",
              "      <td>1</td>\n",
              "      <td>0.166667</td>\n",
              "      <td>0.4</td>\n",
              "    </tr>\n",
              "    <tr>\n",
              "      <th>1</th>\n",
              "      <td>2019-04-27</td>\n",
              "      <td>282</td>\n",
              "      <td>314</td>\n",
              "      <td>2</td>\n",
              "      <td>1</td>\n",
              "      <td>1</td>\n",
              "      <td>0.333333</td>\n",
              "      <td>0.2</td>\n",
              "    </tr>\n",
              "    <tr>\n",
              "      <th>2</th>\n",
              "      <td>2019-04-28</td>\n",
              "      <td>354</td>\n",
              "      <td>341</td>\n",
              "      <td>4</td>\n",
              "      <td>0</td>\n",
              "      <td>1</td>\n",
              "      <td>0.666667</td>\n",
              "      <td>0.0</td>\n",
              "    </tr>\n",
              "    <tr>\n",
              "      <th>3</th>\n",
              "      <td>2019-04-28</td>\n",
              "      <td>275</td>\n",
              "      <td>356</td>\n",
              "      <td>4</td>\n",
              "      <td>0</td>\n",
              "      <td>1</td>\n",
              "      <td>0.666667</td>\n",
              "      <td>0.0</td>\n",
              "    </tr>\n",
              "    <tr>\n",
              "      <th>4</th>\n",
              "      <td>2019-04-27</td>\n",
              "      <td>276</td>\n",
              "      <td>263</td>\n",
              "      <td>2</td>\n",
              "      <td>0</td>\n",
              "      <td>1</td>\n",
              "      <td>0.333333</td>\n",
              "      <td>0.0</td>\n",
              "    </tr>\n",
              "  </tbody>\n",
              "</table>\n",
              "</div>"
            ],
            "text/plain": [
              "         date  home_team  away_team  home_score  away_score  round  \\\n",
              "0  2019-04-28        284        277           1           2      1   \n",
              "1  2019-04-27        282        314           2           1      1   \n",
              "2  2019-04-28        354        341           4           0      1   \n",
              "3  2019-04-28        275        356           4           0      1   \n",
              "4  2019-04-27        276        263           2           0      1   \n",
              "\n",
              "   home_score_norm  away_score_norm  \n",
              "0         0.166667              0.4  \n",
              "1         0.333333              0.2  \n",
              "2         0.666667              0.0  \n",
              "3         0.666667              0.0  \n",
              "4         0.333333              0.0  "
            ]
          },
          "execution_count": 14,
          "metadata": {
            "tags": []
          },
          "output_type": "execute_result"
        }
      ],
      "source": [
        "partidas.head()"
      ]
    },
    {
      "cell_type": "code",
      "execution_count": null,
      "metadata": {
        "colab": {
          "base_uri": "https://localhost:8080/",
          "height": 34
        },
        "colab_type": "code",
        "id": "dJxY_20-F6Qp",
        "outputId": "05b18a04-52b3-4d92-af00-5cb9b059eb3c"
      },
      "outputs": [
        {
          "data": {
            "text/plain": [
              "(380, 8)"
            ]
          },
          "execution_count": 14,
          "metadata": {
            "tags": []
          },
          "output_type": "execute_result"
        }
      ],
      "source": [
        "partidas.shape"
      ]
    },
    {
      "cell_type": "markdown",
      "metadata": {
        "colab_type": "text",
        "id": "kchnIvueF6Qt"
      },
      "source": [
        "### Dados das rodadas"
      ]
    },
    {
      "cell_type": "markdown",
      "metadata": {
        "colab_type": "text",
        "id": "x7HkJseWF6Qu"
      },
      "source": [
        "Agora, vamos importar os dados de performance de todos os jogadores em todas as rodadas de 2019, deixando uma coluna de identificação da rodada para podermos iterar nela."
      ]
    },
    {
      "cell_type": "code",
      "execution_count": null,
      "metadata": {
        "colab": {
          "base_uri": "https://localhost:8080/",
          "height": 34
        },
        "colab_type": "code",
        "id": "2OIXVS4BF6Qz",
        "outputId": "377ffd30-a63e-49ae-b634-c2ab1330adf2"
      },
      "outputs": [
        {
          "data": {
            "text/plain": [
              "(30581, 34)"
            ]
          },
          "execution_count": 17,
          "metadata": {
            "tags": []
          },
          "output_type": "execute_result"
        }
      ],
      "source": [
        "df_partidas.shape"
      ]
    },
    {
      "cell_type": "markdown",
      "metadata": {
        "colab_type": "text",
        "id": "xsHDaA_rF6Q1"
      },
      "source": [
        "Para o contexto desse estudo não vamos analisar a performance de técnicos."
      ]
    },
    {
      "cell_type": "code",
      "execution_count": 41,
      "metadata": {
        "colab": {},
        "colab_type": "code",
        "id": "eWR7unQoF6Q3"
      },
      "outputs": [],
      "source": [
        "df_partidas = df_2023[df_2023['atletas.posicao_id'] != 'tec']"
      ]
    },
    {
      "cell_type": "code",
      "execution_count": 44,
      "metadata": {},
      "outputs": [
        {
          "data": {
            "text/html": [
              "<div>\n",
              "<style scoped>\n",
              "    .dataframe tbody tr th:only-of-type {\n",
              "        vertical-align: middle;\n",
              "    }\n",
              "\n",
              "    .dataframe tbody tr th {\n",
              "        vertical-align: top;\n",
              "    }\n",
              "\n",
              "    .dataframe thead th {\n",
              "        text-align: right;\n",
              "    }\n",
              "</style>\n",
              "<table border=\"1\" class=\"dataframe\">\n",
              "  <thead>\n",
              "    <tr style=\"text-align: right;\">\n",
              "      <th></th>\n",
              "      <th>Unnamed: 0</th>\n",
              "      <th>atletas.temporada_id</th>\n",
              "      <th>atletas.clube.id.full.name</th>\n",
              "      <th>atletas.slug</th>\n",
              "      <th>atletas.apelido_abreviado</th>\n",
              "      <th>atletas.status_id</th>\n",
              "      <th>atletas.rodada_id</th>\n",
              "      <th>atletas.variacao_num</th>\n",
              "      <th>atletas.nome</th>\n",
              "      <th>atletas.jogos_num</th>\n",
              "      <th>atletas.clube_id</th>\n",
              "      <th>atletas.pontos_num</th>\n",
              "      <th>atletas.foto</th>\n",
              "      <th>atletas.minimo_para_valorizar</th>\n",
              "      <th>atletas.posicao_id</th>\n",
              "      <th>atletas.preco_num</th>\n",
              "      <th>atletas.media_num</th>\n",
              "      <th>atletas.atleta_id</th>\n",
              "      <th>atletas.apelido</th>\n",
              "      <th>DS</th>\n",
              "      <th>FC</th>\n",
              "      <th>FD</th>\n",
              "      <th>FS</th>\n",
              "      <th>G</th>\n",
              "      <th>SG</th>\n",
              "      <th>FF</th>\n",
              "      <th>CA</th>\n",
              "      <th>I</th>\n",
              "      <th>DE</th>\n",
              "      <th>GS</th>\n",
              "      <th>DP</th>\n",
              "      <th>A</th>\n",
              "      <th>FT</th>\n",
              "      <th>PC</th>\n",
              "      <th>V</th>\n",
              "      <th>PS</th>\n",
              "      <th>PP</th>\n",
              "      <th>CV</th>\n",
              "      <th>GC</th>\n",
              "      <th>Rank</th>\n",
              "    </tr>\n",
              "  </thead>\n",
              "  <tbody>\n",
              "    <tr>\n",
              "      <th>0</th>\n",
              "      <td>0</td>\n",
              "      <td>2023.0</td>\n",
              "      <td>Internacional</td>\n",
              "      <td>mano-menezes</td>\n",
              "      <td>M. Menezes</td>\n",
              "      <td>7</td>\n",
              "      <td>2</td>\n",
              "      <td>-1.32</td>\n",
              "      <td>Luis AntÃ´nio Venker de Menezes</td>\n",
              "      <td>1</td>\n",
              "      <td>285</td>\n",
              "      <td>0.0</td>\n",
              "      <td>https://s.sde.globo.com/media/person_role/2023...</td>\n",
              "      <td>5.51</td>\n",
              "      <td>6</td>\n",
              "      <td>10.68</td>\n",
              "      <td>4.55</td>\n",
              "      <td>37281</td>\n",
              "      <td>Mano Menezes</td>\n",
              "      <td>NaN</td>\n",
              "      <td>NaN</td>\n",
              "      <td>NaN</td>\n",
              "      <td>NaN</td>\n",
              "      <td>NaN</td>\n",
              "      <td>NaN</td>\n",
              "      <td>NaN</td>\n",
              "      <td>NaN</td>\n",
              "      <td>NaN</td>\n",
              "      <td>NaN</td>\n",
              "      <td>NaN</td>\n",
              "      <td>NaN</td>\n",
              "      <td>NaN</td>\n",
              "      <td>NaN</td>\n",
              "      <td>NaN</td>\n",
              "      <td>NaN</td>\n",
              "      <td>NaN</td>\n",
              "      <td>NaN</td>\n",
              "      <td>NaN</td>\n",
              "      <td>NaN</td>\n",
              "      <td>0.0</td>\n",
              "    </tr>\n",
              "    <tr>\n",
              "      <th>1</th>\n",
              "      <td>1</td>\n",
              "      <td>2023.0</td>\n",
              "      <td>Fluminense</td>\n",
              "      <td>fabio</td>\n",
              "      <td>FÃ¡bio</td>\n",
              "      <td>7</td>\n",
              "      <td>2</td>\n",
              "      <td>-0.10</td>\n",
              "      <td>FÃ¡bio Deivson Lopes Maciel</td>\n",
              "      <td>1</td>\n",
              "      <td>266</td>\n",
              "      <td>0.0</td>\n",
              "      <td>https://s.sde.globo.com/media/person_role/2022...</td>\n",
              "      <td>5.72</td>\n",
              "      <td>1</td>\n",
              "      <td>12.90</td>\n",
              "      <td>7.00</td>\n",
              "      <td>37656</td>\n",
              "      <td>FÃ¡bio</td>\n",
              "      <td>NaN</td>\n",
              "      <td>NaN</td>\n",
              "      <td>NaN</td>\n",
              "      <td>NaN</td>\n",
              "      <td>NaN</td>\n",
              "      <td>1.0</td>\n",
              "      <td>NaN</td>\n",
              "      <td>NaN</td>\n",
              "      <td>NaN</td>\n",
              "      <td>2.0</td>\n",
              "      <td>NaN</td>\n",
              "      <td>NaN</td>\n",
              "      <td>NaN</td>\n",
              "      <td>NaN</td>\n",
              "      <td>NaN</td>\n",
              "      <td>NaN</td>\n",
              "      <td>NaN</td>\n",
              "      <td>NaN</td>\n",
              "      <td>NaN</td>\n",
              "      <td>NaN</td>\n",
              "      <td>0.0</td>\n",
              "    </tr>\n",
              "    <tr>\n",
              "      <th>2</th>\n",
              "      <td>2</td>\n",
              "      <td>2023.0</td>\n",
              "      <td>Santos</td>\n",
              "      <td>bruno-mezenga</td>\n",
              "      <td>B. Mezenga</td>\n",
              "      <td>6</td>\n",
              "      <td>2</td>\n",
              "      <td>-0.65</td>\n",
              "      <td>Bruno Ferreira Mombra Rosa</td>\n",
              "      <td>1</td>\n",
              "      <td>277</td>\n",
              "      <td>0.0</td>\n",
              "      <td>https://s.sde.globo.com/media/person_role/2023...</td>\n",
              "      <td>1.87</td>\n",
              "      <td>5</td>\n",
              "      <td>3.35</td>\n",
              "      <td>1.20</td>\n",
              "      <td>37865</td>\n",
              "      <td>Bruno Mezenga</td>\n",
              "      <td>1.0</td>\n",
              "      <td>NaN</td>\n",
              "      <td>NaN</td>\n",
              "      <td>NaN</td>\n",
              "      <td>NaN</td>\n",
              "      <td>NaN</td>\n",
              "      <td>NaN</td>\n",
              "      <td>NaN</td>\n",
              "      <td>NaN</td>\n",
              "      <td>NaN</td>\n",
              "      <td>NaN</td>\n",
              "      <td>NaN</td>\n",
              "      <td>NaN</td>\n",
              "      <td>NaN</td>\n",
              "      <td>NaN</td>\n",
              "      <td>NaN</td>\n",
              "      <td>NaN</td>\n",
              "      <td>NaN</td>\n",
              "      <td>NaN</td>\n",
              "      <td>NaN</td>\n",
              "      <td>0.0</td>\n",
              "    </tr>\n",
              "    <tr>\n",
              "      <th>3</th>\n",
              "      <td>3</td>\n",
              "      <td>2023.0</td>\n",
              "      <td>SÃ£o Paulo</td>\n",
              "      <td>rafinha</td>\n",
              "      <td>Rafinha</td>\n",
              "      <td>7</td>\n",
              "      <td>2</td>\n",
              "      <td>0.06</td>\n",
              "      <td>MÃ¡rcio Rafael Ferreira de Souza</td>\n",
              "      <td>1</td>\n",
              "      <td>276</td>\n",
              "      <td>0.0</td>\n",
              "      <td>https://s.sde.globo.com/media/person_role/2022...</td>\n",
              "      <td>2.62</td>\n",
              "      <td>2</td>\n",
              "      <td>6.06</td>\n",
              "      <td>3.40</td>\n",
              "      <td>38144</td>\n",
              "      <td>Rafinha</td>\n",
              "      <td>2.0</td>\n",
              "      <td>NaN</td>\n",
              "      <td>NaN</td>\n",
              "      <td>2.0</td>\n",
              "      <td>NaN</td>\n",
              "      <td>NaN</td>\n",
              "      <td>NaN</td>\n",
              "      <td>NaN</td>\n",
              "      <td>NaN</td>\n",
              "      <td>NaN</td>\n",
              "      <td>NaN</td>\n",
              "      <td>NaN</td>\n",
              "      <td>NaN</td>\n",
              "      <td>NaN</td>\n",
              "      <td>NaN</td>\n",
              "      <td>NaN</td>\n",
              "      <td>NaN</td>\n",
              "      <td>NaN</td>\n",
              "      <td>NaN</td>\n",
              "      <td>NaN</td>\n",
              "      <td>0.0</td>\n",
              "    </tr>\n",
              "    <tr>\n",
              "      <th>4</th>\n",
              "      <td>4</td>\n",
              "      <td>2023.0</td>\n",
              "      <td>Corinthians</td>\n",
              "      <td>fabio-santos</td>\n",
              "      <td>F. Santos</td>\n",
              "      <td>7</td>\n",
              "      <td>2</td>\n",
              "      <td>-2.84</td>\n",
              "      <td>FÃ¡bio Santos Romeu</td>\n",
              "      <td>1</td>\n",
              "      <td>264</td>\n",
              "      <td>0.0</td>\n",
              "      <td>https://s.sde.globo.com/media/person_role/2023...</td>\n",
              "      <td>4.02</td>\n",
              "      <td>2</td>\n",
              "      <td>5.16</td>\n",
              "      <td>0.00</td>\n",
              "      <td>38229</td>\n",
              "      <td>FÃ¡bio Santos</td>\n",
              "      <td>NaN</td>\n",
              "      <td>NaN</td>\n",
              "      <td>NaN</td>\n",
              "      <td>NaN</td>\n",
              "      <td>NaN</td>\n",
              "      <td>NaN</td>\n",
              "      <td>NaN</td>\n",
              "      <td>NaN</td>\n",
              "      <td>NaN</td>\n",
              "      <td>NaN</td>\n",
              "      <td>NaN</td>\n",
              "      <td>NaN</td>\n",
              "      <td>NaN</td>\n",
              "      <td>NaN</td>\n",
              "      <td>NaN</td>\n",
              "      <td>NaN</td>\n",
              "      <td>NaN</td>\n",
              "      <td>NaN</td>\n",
              "      <td>NaN</td>\n",
              "      <td>NaN</td>\n",
              "      <td>8.0</td>\n",
              "    </tr>\n",
              "  </tbody>\n",
              "</table>\n",
              "</div>"
            ],
            "text/plain": [
              "   Unnamed: 0  atletas.temporada_id atletas.clube.id.full.name   atletas.slug  \\\n",
              "0           0                2023.0              Internacional   mano-menezes   \n",
              "1           1                2023.0                 Fluminense          fabio   \n",
              "2           2                2023.0                     Santos  bruno-mezenga   \n",
              "3           3                2023.0                 SÃ£o Paulo        rafinha   \n",
              "4           4                2023.0                Corinthians   fabio-santos   \n",
              "\n",
              "  atletas.apelido_abreviado  atletas.status_id  atletas.rodada_id  \\\n",
              "0                M. Menezes                  7                  2   \n",
              "1                    FÃ¡bio                  7                  2   \n",
              "2                B. Mezenga                  6                  2   \n",
              "3                   Rafinha                  7                  2   \n",
              "4                 F. Santos                  7                  2   \n",
              "\n",
              "   atletas.variacao_num                      atletas.nome  atletas.jogos_num  \\\n",
              "0                 -1.32   Luis AntÃ´nio Venker de Menezes                  1   \n",
              "1                 -0.10       FÃ¡bio Deivson Lopes Maciel                  1   \n",
              "2                 -0.65        Bruno Ferreira Mombra Rosa                  1   \n",
              "3                  0.06  MÃ¡rcio Rafael Ferreira de Souza                  1   \n",
              "4                 -2.84               FÃ¡bio Santos Romeu                  1   \n",
              "\n",
              "   atletas.clube_id  atletas.pontos_num  \\\n",
              "0               285                 0.0   \n",
              "1               266                 0.0   \n",
              "2               277                 0.0   \n",
              "3               276                 0.0   \n",
              "4               264                 0.0   \n",
              "\n",
              "                                        atletas.foto  \\\n",
              "0  https://s.sde.globo.com/media/person_role/2023...   \n",
              "1  https://s.sde.globo.com/media/person_role/2022...   \n",
              "2  https://s.sde.globo.com/media/person_role/2023...   \n",
              "3  https://s.sde.globo.com/media/person_role/2022...   \n",
              "4  https://s.sde.globo.com/media/person_role/2023...   \n",
              "\n",
              "   atletas.minimo_para_valorizar  atletas.posicao_id  atletas.preco_num  \\\n",
              "0                           5.51                   6              10.68   \n",
              "1                           5.72                   1              12.90   \n",
              "2                           1.87                   5               3.35   \n",
              "3                           2.62                   2               6.06   \n",
              "4                           4.02                   2               5.16   \n",
              "\n",
              "   atletas.media_num  atletas.atleta_id atletas.apelido   DS  FC  FD   FS   G  \\\n",
              "0               4.55              37281    Mano Menezes  NaN NaN NaN  NaN NaN   \n",
              "1               7.00              37656          FÃ¡bio  NaN NaN NaN  NaN NaN   \n",
              "2               1.20              37865   Bruno Mezenga  1.0 NaN NaN  NaN NaN   \n",
              "3               3.40              38144         Rafinha  2.0 NaN NaN  2.0 NaN   \n",
              "4               0.00              38229   FÃ¡bio Santos  NaN NaN NaN  NaN NaN   \n",
              "\n",
              "    SG  FF  CA   I   DE  GS  DP   A  FT  PC   V  PS  PP  CV  GC Rank  \n",
              "0  NaN NaN NaN NaN  NaN NaN NaN NaN NaN NaN NaN NaN NaN NaN NaN  0.0  \n",
              "1  1.0 NaN NaN NaN  2.0 NaN NaN NaN NaN NaN NaN NaN NaN NaN NaN  0.0  \n",
              "2  NaN NaN NaN NaN  NaN NaN NaN NaN NaN NaN NaN NaN NaN NaN NaN  0.0  \n",
              "3  NaN NaN NaN NaN  NaN NaN NaN NaN NaN NaN NaN NaN NaN NaN NaN  0.0  \n",
              "4  NaN NaN NaN NaN  NaN NaN NaN NaN NaN NaN NaN NaN NaN NaN NaN  8.0  "
            ]
          },
          "execution_count": 44,
          "metadata": {},
          "output_type": "execute_result"
        }
      ],
      "source": [
        "df_partidas.head()"
      ]
    },
    {
      "cell_type": "markdown",
      "metadata": {
        "colab_type": "text",
        "id": "Q3qQ2E29F6Q6"
      },
      "source": [
        "Para colocar cada jogador em uma posição específica na matriz, vamos trazer a informação de ranking que criamos para o dataframe de partidas."
      ]
    },
    {
      "cell_type": "code",
      "execution_count": 45,
      "metadata": {
        "colab": {},
        "colab_type": "code",
        "id": "EIUBLn6QF6Q7"
      },
      "outputs": [],
      "source": [
        "df_partidas = df_2023.set_index('atletas.atleta_id').join(atletas.set_index('atletas.atleta_id'), lsuffix='_df_2023', rsuffix='_atletas')"
      ]
    },
    {
      "cell_type": "code",
      "execution_count": 46,
      "metadata": {
        "colab": {
          "base_uri": "https://localhost:8080/",
          "height": 417
        },
        "colab_type": "code",
        "id": "HHSSJjjpF6Q_",
        "outputId": "637b5c73-96f6-4495-ffde-007fe5ce2a75"
      },
      "outputs": [
        {
          "data": {
            "text/html": [
              "<div>\n",
              "<style scoped>\n",
              "    .dataframe tbody tr th:only-of-type {\n",
              "        vertical-align: middle;\n",
              "    }\n",
              "\n",
              "    .dataframe tbody tr th {\n",
              "        vertical-align: top;\n",
              "    }\n",
              "\n",
              "    .dataframe thead th {\n",
              "        text-align: right;\n",
              "    }\n",
              "</style>\n",
              "<table border=\"1\" class=\"dataframe\">\n",
              "  <thead>\n",
              "    <tr style=\"text-align: right;\">\n",
              "      <th></th>\n",
              "      <th>Unnamed: 0</th>\n",
              "      <th>atletas.temporada_id</th>\n",
              "      <th>atletas.clube.id.full.name</th>\n",
              "      <th>atletas.slug</th>\n",
              "      <th>atletas.apelido_abreviado</th>\n",
              "      <th>atletas.status_id</th>\n",
              "      <th>atletas.rodada_id</th>\n",
              "      <th>atletas.variacao_num</th>\n",
              "      <th>atletas.nome</th>\n",
              "      <th>atletas.jogos_num</th>\n",
              "      <th>atletas.clube_id</th>\n",
              "      <th>atletas.pontos_num</th>\n",
              "      <th>atletas.foto</th>\n",
              "      <th>atletas.minimo_para_valorizar</th>\n",
              "      <th>atletas.posicao_id_df_2023</th>\n",
              "      <th>atletas.preco_num</th>\n",
              "      <th>atletas.media_num</th>\n",
              "      <th>atletas.apelido</th>\n",
              "      <th>DS</th>\n",
              "      <th>FC</th>\n",
              "      <th>FD</th>\n",
              "      <th>FS</th>\n",
              "      <th>G</th>\n",
              "      <th>SG</th>\n",
              "      <th>FF</th>\n",
              "      <th>CA</th>\n",
              "      <th>I</th>\n",
              "      <th>DE</th>\n",
              "      <th>GS</th>\n",
              "      <th>DP</th>\n",
              "      <th>A</th>\n",
              "      <th>FT</th>\n",
              "      <th>PC</th>\n",
              "      <th>V</th>\n",
              "      <th>PS</th>\n",
              "      <th>PP</th>\n",
              "      <th>CV</th>\n",
              "      <th>GC</th>\n",
              "      <th>Rank_df_2023</th>\n",
              "      <th>Rank_atletas</th>\n",
              "      <th>atletas.posicao_id_atletas</th>\n",
              "    </tr>\n",
              "    <tr>\n",
              "      <th>atletas.atleta_id</th>\n",
              "      <th></th>\n",
              "      <th></th>\n",
              "      <th></th>\n",
              "      <th></th>\n",
              "      <th></th>\n",
              "      <th></th>\n",
              "      <th></th>\n",
              "      <th></th>\n",
              "      <th></th>\n",
              "      <th></th>\n",
              "      <th></th>\n",
              "      <th></th>\n",
              "      <th></th>\n",
              "      <th></th>\n",
              "      <th></th>\n",
              "      <th></th>\n",
              "      <th></th>\n",
              "      <th></th>\n",
              "      <th></th>\n",
              "      <th></th>\n",
              "      <th></th>\n",
              "      <th></th>\n",
              "      <th></th>\n",
              "      <th></th>\n",
              "      <th></th>\n",
              "      <th></th>\n",
              "      <th></th>\n",
              "      <th></th>\n",
              "      <th></th>\n",
              "      <th></th>\n",
              "      <th></th>\n",
              "      <th></th>\n",
              "      <th></th>\n",
              "      <th></th>\n",
              "      <th></th>\n",
              "      <th></th>\n",
              "      <th></th>\n",
              "      <th></th>\n",
              "      <th></th>\n",
              "      <th></th>\n",
              "      <th></th>\n",
              "    </tr>\n",
              "  </thead>\n",
              "  <tbody>\n",
              "    <tr>\n",
              "      <th>37281</th>\n",
              "      <td>0</td>\n",
              "      <td>2023.0</td>\n",
              "      <td>Internacional</td>\n",
              "      <td>mano-menezes</td>\n",
              "      <td>M. Menezes</td>\n",
              "      <td>7</td>\n",
              "      <td>2</td>\n",
              "      <td>-1.32</td>\n",
              "      <td>Luis AntÃ´nio Venker de Menezes</td>\n",
              "      <td>1</td>\n",
              "      <td>285</td>\n",
              "      <td>0.00</td>\n",
              "      <td>https://s.sde.globo.com/media/person_role/2023...</td>\n",
              "      <td>5.51</td>\n",
              "      <td>6</td>\n",
              "      <td>10.68</td>\n",
              "      <td>4.55</td>\n",
              "      <td>Mano Menezes</td>\n",
              "      <td>NaN</td>\n",
              "      <td>NaN</td>\n",
              "      <td>NaN</td>\n",
              "      <td>NaN</td>\n",
              "      <td>NaN</td>\n",
              "      <td>NaN</td>\n",
              "      <td>NaN</td>\n",
              "      <td>NaN</td>\n",
              "      <td>NaN</td>\n",
              "      <td>NaN</td>\n",
              "      <td>NaN</td>\n",
              "      <td>NaN</td>\n",
              "      <td>NaN</td>\n",
              "      <td>NaN</td>\n",
              "      <td>NaN</td>\n",
              "      <td>NaN</td>\n",
              "      <td>NaN</td>\n",
              "      <td>NaN</td>\n",
              "      <td>NaN</td>\n",
              "      <td>NaN</td>\n",
              "      <td>0.0</td>\n",
              "      <td>0.0</td>\n",
              "      <td>6</td>\n",
              "    </tr>\n",
              "    <tr>\n",
              "      <th>37281</th>\n",
              "      <td>0</td>\n",
              "      <td>NaN</td>\n",
              "      <td>Internacional</td>\n",
              "      <td>mano-menezes</td>\n",
              "      <td>M. Menezes</td>\n",
              "      <td>7</td>\n",
              "      <td>2</td>\n",
              "      <td>0.35</td>\n",
              "      <td>Luis Antônio Venker de Menezes</td>\n",
              "      <td>2</td>\n",
              "      <td>285</td>\n",
              "      <td>6.95</td>\n",
              "      <td>https://s.sde.globo.com/media/person_role/2023...</td>\n",
              "      <td>NaN</td>\n",
              "      <td>6</td>\n",
              "      <td>11.03</td>\n",
              "      <td>5.75</td>\n",
              "      <td>Mano Menezes</td>\n",
              "      <td>NaN</td>\n",
              "      <td>NaN</td>\n",
              "      <td>NaN</td>\n",
              "      <td>NaN</td>\n",
              "      <td>NaN</td>\n",
              "      <td>NaN</td>\n",
              "      <td>NaN</td>\n",
              "      <td>NaN</td>\n",
              "      <td>NaN</td>\n",
              "      <td>NaN</td>\n",
              "      <td>NaN</td>\n",
              "      <td>NaN</td>\n",
              "      <td>NaN</td>\n",
              "      <td>NaN</td>\n",
              "      <td>NaN</td>\n",
              "      <td>1.0</td>\n",
              "      <td>NaN</td>\n",
              "      <td>NaN</td>\n",
              "      <td>NaN</td>\n",
              "      <td>NaN</td>\n",
              "      <td>0.0</td>\n",
              "      <td>0.0</td>\n",
              "      <td>6</td>\n",
              "    </tr>\n",
              "    <tr>\n",
              "      <th>37281</th>\n",
              "      <td>0</td>\n",
              "      <td>NaN</td>\n",
              "      <td>Internacional</td>\n",
              "      <td>mano-menezes</td>\n",
              "      <td>M. Menezes</td>\n",
              "      <td>7</td>\n",
              "      <td>3</td>\n",
              "      <td>0.63</td>\n",
              "      <td>Luis Antônio Venker de Menezes</td>\n",
              "      <td>3</td>\n",
              "      <td>285</td>\n",
              "      <td>6.67</td>\n",
              "      <td>https://s.sde.globo.com/media/person_role/2023...</td>\n",
              "      <td>NaN</td>\n",
              "      <td>6</td>\n",
              "      <td>11.66</td>\n",
              "      <td>6.06</td>\n",
              "      <td>Mano Menezes</td>\n",
              "      <td>NaN</td>\n",
              "      <td>NaN</td>\n",
              "      <td>NaN</td>\n",
              "      <td>NaN</td>\n",
              "      <td>NaN</td>\n",
              "      <td>NaN</td>\n",
              "      <td>NaN</td>\n",
              "      <td>NaN</td>\n",
              "      <td>NaN</td>\n",
              "      <td>NaN</td>\n",
              "      <td>NaN</td>\n",
              "      <td>NaN</td>\n",
              "      <td>NaN</td>\n",
              "      <td>NaN</td>\n",
              "      <td>NaN</td>\n",
              "      <td>2.0</td>\n",
              "      <td>NaN</td>\n",
              "      <td>NaN</td>\n",
              "      <td>NaN</td>\n",
              "      <td>NaN</td>\n",
              "      <td>0.0</td>\n",
              "      <td>0.0</td>\n",
              "      <td>6</td>\n",
              "    </tr>\n",
              "    <tr>\n",
              "      <th>37281</th>\n",
              "      <td>0</td>\n",
              "      <td>NaN</td>\n",
              "      <td>Internacional</td>\n",
              "      <td>mano-menezes</td>\n",
              "      <td>M. Menezes</td>\n",
              "      <td>7</td>\n",
              "      <td>4</td>\n",
              "      <td>-0.25</td>\n",
              "      <td>Luis Antônio Venker de Menezes</td>\n",
              "      <td>4</td>\n",
              "      <td>285</td>\n",
              "      <td>4.05</td>\n",
              "      <td>https://s.sde.globo.com/media/person_role/2023...</td>\n",
              "      <td>NaN</td>\n",
              "      <td>6</td>\n",
              "      <td>11.41</td>\n",
              "      <td>5.56</td>\n",
              "      <td>Mano Menezes</td>\n",
              "      <td>NaN</td>\n",
              "      <td>NaN</td>\n",
              "      <td>NaN</td>\n",
              "      <td>NaN</td>\n",
              "      <td>NaN</td>\n",
              "      <td>NaN</td>\n",
              "      <td>NaN</td>\n",
              "      <td>NaN</td>\n",
              "      <td>NaN</td>\n",
              "      <td>NaN</td>\n",
              "      <td>NaN</td>\n",
              "      <td>NaN</td>\n",
              "      <td>NaN</td>\n",
              "      <td>NaN</td>\n",
              "      <td>NaN</td>\n",
              "      <td>2.0</td>\n",
              "      <td>NaN</td>\n",
              "      <td>NaN</td>\n",
              "      <td>NaN</td>\n",
              "      <td>NaN</td>\n",
              "      <td>0.0</td>\n",
              "      <td>0.0</td>\n",
              "      <td>6</td>\n",
              "    </tr>\n",
              "    <tr>\n",
              "      <th>37281</th>\n",
              "      <td>0</td>\n",
              "      <td>NaN</td>\n",
              "      <td>Internacional</td>\n",
              "      <td>mano-menezes</td>\n",
              "      <td>M. Menezes</td>\n",
              "      <td>7</td>\n",
              "      <td>5</td>\n",
              "      <td>-0.74</td>\n",
              "      <td>Luis Antônio Venker de Menezes</td>\n",
              "      <td>5</td>\n",
              "      <td>285</td>\n",
              "      <td>2.15</td>\n",
              "      <td>https://s.sde.globo.com/media/person_role/2023...</td>\n",
              "      <td>NaN</td>\n",
              "      <td>6</td>\n",
              "      <td>10.67</td>\n",
              "      <td>4.88</td>\n",
              "      <td>Mano Menezes</td>\n",
              "      <td>NaN</td>\n",
              "      <td>NaN</td>\n",
              "      <td>NaN</td>\n",
              "      <td>NaN</td>\n",
              "      <td>NaN</td>\n",
              "      <td>NaN</td>\n",
              "      <td>NaN</td>\n",
              "      <td>NaN</td>\n",
              "      <td>NaN</td>\n",
              "      <td>NaN</td>\n",
              "      <td>NaN</td>\n",
              "      <td>NaN</td>\n",
              "      <td>NaN</td>\n",
              "      <td>NaN</td>\n",
              "      <td>NaN</td>\n",
              "      <td>2.0</td>\n",
              "      <td>NaN</td>\n",
              "      <td>NaN</td>\n",
              "      <td>NaN</td>\n",
              "      <td>NaN</td>\n",
              "      <td>0.0</td>\n",
              "      <td>0.0</td>\n",
              "      <td>6</td>\n",
              "    </tr>\n",
              "  </tbody>\n",
              "</table>\n",
              "</div>"
            ],
            "text/plain": [
              "                   Unnamed: 0  atletas.temporada_id  \\\n",
              "atletas.atleta_id                                     \n",
              "37281                       0                2023.0   \n",
              "37281                       0                   NaN   \n",
              "37281                       0                   NaN   \n",
              "37281                       0                   NaN   \n",
              "37281                       0                   NaN   \n",
              "\n",
              "                  atletas.clube.id.full.name  atletas.slug  \\\n",
              "atletas.atleta_id                                            \n",
              "37281                          Internacional  mano-menezes   \n",
              "37281                          Internacional  mano-menezes   \n",
              "37281                          Internacional  mano-menezes   \n",
              "37281                          Internacional  mano-menezes   \n",
              "37281                          Internacional  mano-menezes   \n",
              "\n",
              "                  atletas.apelido_abreviado  atletas.status_id  \\\n",
              "atletas.atleta_id                                                \n",
              "37281                            M. Menezes                  7   \n",
              "37281                            M. Menezes                  7   \n",
              "37281                            M. Menezes                  7   \n",
              "37281                            M. Menezes                  7   \n",
              "37281                            M. Menezes                  7   \n",
              "\n",
              "                   atletas.rodada_id  atletas.variacao_num  \\\n",
              "atletas.atleta_id                                            \n",
              "37281                              2                 -1.32   \n",
              "37281                              2                  0.35   \n",
              "37281                              3                  0.63   \n",
              "37281                              4                 -0.25   \n",
              "37281                              5                 -0.74   \n",
              "\n",
              "                                      atletas.nome  atletas.jogos_num  \\\n",
              "atletas.atleta_id                                                       \n",
              "37281              Luis AntÃ´nio Venker de Menezes                  1   \n",
              "37281               Luis Antônio Venker de Menezes                  2   \n",
              "37281               Luis Antônio Venker de Menezes                  3   \n",
              "37281               Luis Antônio Venker de Menezes                  4   \n",
              "37281               Luis Antônio Venker de Menezes                  5   \n",
              "\n",
              "                   atletas.clube_id  atletas.pontos_num  \\\n",
              "atletas.atleta_id                                         \n",
              "37281                           285                0.00   \n",
              "37281                           285                6.95   \n",
              "37281                           285                6.67   \n",
              "37281                           285                4.05   \n",
              "37281                           285                2.15   \n",
              "\n",
              "                                                        atletas.foto  \\\n",
              "atletas.atleta_id                                                      \n",
              "37281              https://s.sde.globo.com/media/person_role/2023...   \n",
              "37281              https://s.sde.globo.com/media/person_role/2023...   \n",
              "37281              https://s.sde.globo.com/media/person_role/2023...   \n",
              "37281              https://s.sde.globo.com/media/person_role/2023...   \n",
              "37281              https://s.sde.globo.com/media/person_role/2023...   \n",
              "\n",
              "                   atletas.minimo_para_valorizar  atletas.posicao_id_df_2023  \\\n",
              "atletas.atleta_id                                                              \n",
              "37281                                       5.51                           6   \n",
              "37281                                        NaN                           6   \n",
              "37281                                        NaN                           6   \n",
              "37281                                        NaN                           6   \n",
              "37281                                        NaN                           6   \n",
              "\n",
              "                   atletas.preco_num  atletas.media_num atletas.apelido  DS  \\\n",
              "atletas.atleta_id                                                             \n",
              "37281                          10.68               4.55    Mano Menezes NaN   \n",
              "37281                          11.03               5.75    Mano Menezes NaN   \n",
              "37281                          11.66               6.06    Mano Menezes NaN   \n",
              "37281                          11.41               5.56    Mano Menezes NaN   \n",
              "37281                          10.67               4.88    Mano Menezes NaN   \n",
              "\n",
              "                   FC  FD  FS   G  SG  FF  CA   I  DE  GS  DP   A  FT  PC  \\\n",
              "atletas.atleta_id                                                           \n",
              "37281             NaN NaN NaN NaN NaN NaN NaN NaN NaN NaN NaN NaN NaN NaN   \n",
              "37281             NaN NaN NaN NaN NaN NaN NaN NaN NaN NaN NaN NaN NaN NaN   \n",
              "37281             NaN NaN NaN NaN NaN NaN NaN NaN NaN NaN NaN NaN NaN NaN   \n",
              "37281             NaN NaN NaN NaN NaN NaN NaN NaN NaN NaN NaN NaN NaN NaN   \n",
              "37281             NaN NaN NaN NaN NaN NaN NaN NaN NaN NaN NaN NaN NaN NaN   \n",
              "\n",
              "                     V  PS  PP  CV  GC Rank_df_2023 Rank_atletas  \\\n",
              "atletas.atleta_id                                                  \n",
              "37281              NaN NaN NaN NaN NaN          0.0          0.0   \n",
              "37281              1.0 NaN NaN NaN NaN          0.0          0.0   \n",
              "37281              2.0 NaN NaN NaN NaN          0.0          0.0   \n",
              "37281              2.0 NaN NaN NaN NaN          0.0          0.0   \n",
              "37281              2.0 NaN NaN NaN NaN          0.0          0.0   \n",
              "\n",
              "                   atletas.posicao_id_atletas  \n",
              "atletas.atleta_id                              \n",
              "37281                                       6  \n",
              "37281                                       6  \n",
              "37281                                       6  \n",
              "37281                                       6  \n",
              "37281                                       6  "
            ]
          },
          "execution_count": 46,
          "metadata": {},
          "output_type": "execute_result"
        }
      ],
      "source": [
        "df_partidas.head()"
      ]
    },
    {
      "cell_type": "code",
      "execution_count": 48,
      "metadata": {
        "colab": {
          "base_uri": "https://localhost:8080/",
          "height": 225
        },
        "colab_type": "code",
        "id": "k7kiMCP8F6RD",
        "outputId": "18d8db62-8543-44c8-e6d6-c304d1f59ecc"
      },
      "outputs": [
        {
          "data": {
            "text/plain": [
              "atletas.atleta_id\n",
              "37281        0.0\n",
              "37281        0.0\n",
              "37281        0.0\n",
              "37281        0.0\n",
              "37281        0.0\n",
              "           ...  \n",
              "124758     900.0\n",
              "124758     900.0\n",
              "124821    1392.0\n",
              "124830    1393.0\n",
              "124834    1822.0\n",
              "Name: Rank_atletas, Length: 5730, dtype: object"
            ]
          },
          "execution_count": 48,
          "metadata": {},
          "output_type": "execute_result"
        }
      ],
      "source": [
        "df_partidas['Rank_atletas']"
      ]
    },
    {
      "cell_type": "markdown",
      "metadata": {
        "colab_type": "text",
        "id": "N1rEiHXnF6RI"
      },
      "source": [
        "### Removendo jogadores não cadastrados"
      ]
    },
    {
      "cell_type": "markdown",
      "metadata": {
        "colab_type": "text",
        "id": "tROwb1ZhF6RJ"
      },
      "source": [
        "Como a base para construção da nossa matriz é a tabela de atletas que criamos, caso algum jogador apareça na rodada e não esteja na tabela, desconsideramos esse jogador."
      ]
    },
    {
      "cell_type": "code",
      "execution_count": 49,
      "metadata": {
        "colab": {},
        "colab_type": "code",
        "id": "dvvoFr5fF6RK"
      },
      "outputs": [],
      "source": [
        "df_partidas.drop(df_partidas[df_partidas['Rank_atletas'].isnull()].index, inplace=True)"
      ]
    },
    {
      "cell_type": "code",
      "execution_count": 50,
      "metadata": {
        "colab": {},
        "colab_type": "code",
        "id": "2el96x7kF6RO"
      },
      "outputs": [],
      "source": [
        "df_partidas['Rank_atletas'] = df_partidas['Rank_atletas'].astype(int)"
      ]
    },
    {
      "cell_type": "markdown",
      "metadata": {
        "colab_type": "text",
        "id": "V-otIj9nF6RR"
      },
      "source": [
        "# Matriz M de estados"
      ]
    },
    {
      "cell_type": "markdown",
      "metadata": {
        "colab_type": "text",
        "id": "mU_M5IzRF6RU"
      },
      "source": [
        "Para cada posição(atacante, zagueiro, etc.), iniciamos uma matriz de zeros com tamanho *d x d*, sendo *d=quantidade de jogadores únicos*.\n",
        "\n",
        "### Exemplo com atacantes"
      ]
    },
    {
      "cell_type": "markdown",
      "metadata": {
        "colab_type": "text",
        "id": "IVH5UeOVF6RU"
      },
      "source": [
        "Para o restante do estudo vamos analisar os resultados para os atacantes."
      ]
    },
    {
      "cell_type": "code",
      "execution_count": 51,
      "metadata": {
        "colab": {},
        "colab_type": "code",
        "id": "DivC8x43F6RU"
      },
      "outputs": [],
      "source": [
        "import numpy as np"
      ]
    },
    {
      "cell_type": "code",
      "execution_count": 52,
      "metadata": {
        "colab": {},
        "colab_type": "code",
        "id": "HuFv5IuaF6RZ"
      },
      "outputs": [],
      "source": [
        "posicao = 5"
      ]
    },
    {
      "cell_type": "code",
      "execution_count": 54,
      "metadata": {
        "colab": {},
        "colab_type": "code",
        "id": "xyQecvYmF6Rc"
      },
      "outputs": [],
      "source": [
        "qtd_atletas = len(atletas[atletas['atletas.posicao_id'] == posicao])\n",
        "M = np.zeros((qtd_atletas,qtd_atletas))"
      ]
    },
    {
      "cell_type": "code",
      "execution_count": 55,
      "metadata": {
        "colab": {
          "base_uri": "https://localhost:8080/",
          "height": 139
        },
        "colab_type": "code",
        "id": "yyYUJ9tqF6Rf",
        "outputId": "c80e4e2a-5778-411c-c362-e07d7cf6dadf"
      },
      "outputs": [
        {
          "data": {
            "text/plain": [
              "array([[0., 0., 0., ..., 0., 0., 0.],\n",
              "       [0., 0., 0., ..., 0., 0., 0.],\n",
              "       [0., 0., 0., ..., 0., 0., 0.],\n",
              "       ...,\n",
              "       [0., 0., 0., ..., 0., 0., 0.],\n",
              "       [0., 0., 0., ..., 0., 0., 0.],\n",
              "       [0., 0., 0., ..., 0., 0., 0.]])"
            ]
          },
          "execution_count": 55,
          "metadata": {},
          "output_type": "execute_result"
        }
      ],
      "source": [
        "M"
      ]
    },
    {
      "cell_type": "code",
      "execution_count": 56,
      "metadata": {
        "colab": {
          "base_uri": "https://localhost:8080/",
          "height": 34
        },
        "colab_type": "code",
        "id": "JD8xD06MF6Rj",
        "outputId": "846642a4-2dbd-4e74-8aad-17b752de6e98",
        "scrolled": true
      },
      "outputs": [
        {
          "data": {
            "text/plain": [
              "(185, 185)"
            ]
          },
          "execution_count": 56,
          "metadata": {},
          "output_type": "execute_result"
        }
      ],
      "source": [
        "M.shape"
      ]
    },
    {
      "cell_type": "markdown",
      "metadata": {
        "colab_type": "text",
        "id": "_t6YCBprF6Rn"
      },
      "source": [
        "# Atualizando a matriz"
      ]
    },
    {
      "cell_type": "markdown",
      "metadata": {
        "colab_type": "text",
        "id": "Xa-n10SmF6Ro"
      },
      "source": [
        "1. Selecionar partida. \n",
        "2. Selecionar os jogadores que atuaram pelo time da casa.\n",
        "3. Selecionar os jogadores que atuaram pelo time visitante.\n",
        "4. Avaliar cada jogador do time da casa contra cada jogador do time visitante.\n",
        "5. Atualizar a matriz de transições de acordo com a regra*:\n",
        "\n",
        "Para um jogo específico, ***j1*** é o índice do jogador avaliado do time da casa e ***j2*** o índice do jogador avaliado do time visitante."
      ]
    },
    {
      "cell_type": "markdown",
      "metadata": {
        "colab_type": "text",
        "id": "RYW8sdd5F6Ro"
      },
      "source": [
        "$$\\hat{M}_{j1j1} \\ \\leftarrow \\ \\hat{M}_{j1j1} \\ +\\ gols\\_time_{j1} \\ +\\ \\frac{pontos_{j1}}{pontos_{j1} +pontos_{j2}}$$\n",
        "\n",
        "$$\\hat{M}_{j2j2} \\ \\leftarrow \\ \\hat{M}_{j2j2} \\ +\\ gols\\_time_{j2} \\ +\\ \\frac{pontos_{j2}}{pontos_{j1} +pontos_{j2}}$$\n",
        "\n",
        "$$\\hat{M}_{j1j2} \\ \\leftarrow \\ \\hat{M}_{j1j2} \\ +\\ gols\\_time_{j2} \\ +\\ \\frac{pontos_{j2}}{pontos_{j1} +pontos_{j2}}$$\n",
        "\n",
        "$$\\hat{M}_{j2j1} \\ \\leftarrow \\ \\hat{M}_{j2j1} \\ +\\ gols\\_time_{j1} \\ +\\ \\frac{pontos_{j1}}{pontos_{j1} +pontos_{j2}}$$\n",
        "\n",
        "_*Regras para atacantes_\n"
      ]
    },
    {
      "cell_type": "code",
      "execution_count": 58,
      "metadata": {
        "colab": {},
        "colab_type": "code",
        "id": "9zd76ZjhF6Rp"
      },
      "outputs": [],
      "source": [
        "df_partidas_posicao = df_partidas[df_partidas['atletas.posicao_id_df_2023'] == posicao].copy()"
      ]
    },
    {
      "cell_type": "code",
      "execution_count": 59,
      "metadata": {
        "colab": {},
        "colab_type": "code",
        "id": "SeBR6qMCF6Rs"
      },
      "outputs": [
        {
          "ename": "NameError",
          "evalue": "name 'partidas' is not defined",
          "output_type": "error",
          "traceback": [
            "\u001b[1;31m---------------------------------------------------------------------------\u001b[0m",
            "\u001b[1;31mNameError\u001b[0m                                 Traceback (most recent call last)",
            "\u001b[1;32m~\\AppData\\Local\\Temp/ipykernel_1644/1193226272.py\u001b[0m in \u001b[0;36m<module>\u001b[1;34m\u001b[0m\n\u001b[1;32m----> 1\u001b[1;33m \u001b[1;32mfor\u001b[0m \u001b[0mpartida\u001b[0m \u001b[1;32min\u001b[0m \u001b[0mrange\u001b[0m\u001b[1;33m(\u001b[0m\u001b[0mlen\u001b[0m\u001b[1;33m(\u001b[0m\u001b[0mpartidas\u001b[0m\u001b[1;33m)\u001b[0m\u001b[1;33m-\u001b[0m\u001b[1;36m1\u001b[0m\u001b[1;33m)\u001b[0m\u001b[1;33m:\u001b[0m \u001b[1;31m#Vamos deixar a última partida de fora para testes\u001b[0m\u001b[1;33m\u001b[0m\u001b[1;33m\u001b[0m\u001b[0m\n\u001b[0m\u001b[0;32m      2\u001b[0m     \u001b[0mdf_rodada\u001b[0m \u001b[1;33m=\u001b[0m \u001b[0mdf_partidas_posicao\u001b[0m\u001b[1;33m[\u001b[0m\u001b[0mdf_partidas_posicao\u001b[0m\u001b[1;33m[\u001b[0m\u001b[1;34m'round'\u001b[0m\u001b[1;33m]\u001b[0m \u001b[1;33m==\u001b[0m \u001b[0mpartidas\u001b[0m\u001b[1;33m[\u001b[0m\u001b[1;34m'round'\u001b[0m\u001b[1;33m]\u001b[0m\u001b[1;33m[\u001b[0m\u001b[0mpartida\u001b[0m\u001b[1;33m]\u001b[0m\u001b[1;33m]\u001b[0m\u001b[1;33m\u001b[0m\u001b[1;33m\u001b[0m\u001b[0m\n\u001b[0;32m      3\u001b[0m     \u001b[0mjogadores_casa\u001b[0m \u001b[1;33m=\u001b[0m \u001b[0mdf_rodada\u001b[0m\u001b[1;33m[\u001b[0m\u001b[0mdf_rodada\u001b[0m\u001b[1;33m[\u001b[0m\u001b[1;34m'atletas.clube_id'\u001b[0m\u001b[1;33m]\u001b[0m \u001b[1;33m==\u001b[0m \u001b[0mpartidas\u001b[0m\u001b[1;33m[\u001b[0m\u001b[1;34m'home_team'\u001b[0m\u001b[1;33m]\u001b[0m\u001b[1;33m[\u001b[0m\u001b[0mpartida\u001b[0m\u001b[1;33m]\u001b[0m\u001b[1;33m]\u001b[0m\u001b[1;33m\u001b[0m\u001b[1;33m\u001b[0m\u001b[0m\n\u001b[0;32m      4\u001b[0m     \u001b[0mjogadores_visitantes\u001b[0m \u001b[1;33m=\u001b[0m \u001b[0mdf_rodada\u001b[0m\u001b[1;33m[\u001b[0m\u001b[0mdf_rodada\u001b[0m\u001b[1;33m[\u001b[0m\u001b[1;34m'atletas.clube_id'\u001b[0m\u001b[1;33m]\u001b[0m \u001b[1;33m==\u001b[0m \u001b[0mpartidas\u001b[0m\u001b[1;33m[\u001b[0m\u001b[1;34m'away_team'\u001b[0m\u001b[1;33m]\u001b[0m\u001b[1;33m[\u001b[0m\u001b[0mpartida\u001b[0m\u001b[1;33m]\u001b[0m\u001b[1;33m]\u001b[0m\u001b[1;33m\u001b[0m\u001b[1;33m\u001b[0m\u001b[0m\n\u001b[0;32m      5\u001b[0m \u001b[1;33m\u001b[0m\u001b[0m\n",
            "\u001b[1;31mNameError\u001b[0m: name 'partidas' is not defined"
          ]
        }
      ],
      "source": [
        "for partida in range(len(partidas)-1): #Vamos deixar a última partida de fora para testes\n",
        "    df_rodada = df_partidas_posicao[df_partidas_posicao['round'] == partidas['round'][partida]]\n",
        "    jogadores_casa = df_rodada[df_rodada['atletas.clube_id'] == partidas['home_team'][partida]]\n",
        "    jogadores_visitantes = df_rodada[df_rodada['atletas.clube_id'] == partidas['away_team'][partida]]\n",
        "    \n",
        "    for j_casa in range(len(jogadores_casa)):\n",
        "        for j_visitante in range(len(jogadores_visitantes)):\n",
        "            score_casa = 0\n",
        "            score_visitante = 0\n",
        "            \n",
        "            pontos_j_casa = jogadores_casa['atletas.pontos_num'].iloc[j_casa]\n",
        "            pontos_j_visitante = jogadores_visitantes['atletas.pontos_num'].iloc[j_visitante]\n",
        "            \n",
        "            soma =  pontos_j_casa + pontos_j_visitante \n",
        "            if soma != 0:\n",
        "                score_casa = pontos_j_casa / soma\n",
        "                score_visitante = pontos_j_visitante / soma\n",
        "            \n",
        "            j1 = jogadores_casa['Rank'].iloc[j_casa]\n",
        "            j2 = jogadores_visitantes['Rank'].iloc[j_visitante]\n",
        "                \n",
        "            M[j1,j1] = M[j1,j1] + partidas['home_score_norm'][partida] + score_casa\n",
        "            M[j1,j2] = M[j1,j2] + partidas['away_score_norm'][partida] + score_visitante\n",
        "            M[j2,j1] = M[j2,j1] + partidas['home_score_norm'][partida] + score_casa\n",
        "            M[j2,j2] = M[j2,j2] + partidas['away_score_norm'][partida] + score_visitante"
      ]
    },
    {
      "cell_type": "code",
      "execution_count": null,
      "metadata": {
        "colab": {
          "base_uri": "https://localhost:8080/",
          "height": 243
        },
        "colab_type": "code",
        "id": "ZDwWGXthF6Rw",
        "outputId": "0e84f74c-0eb1-4e95-b34b-0074fa0a134a"
      },
      "outputs": [
        {
          "data": {
            "text/plain": [
              "array([[ 1.89125212e+02,  1.33333333e+00,  3.66666667e-01, ...,\n",
              "         4.13333333e-01,  0.00000000e+00,  0.00000000e+00],\n",
              "       [-1.66666667e-01,  1.39137439e+02,  0.00000000e+00, ...,\n",
              "         3.33333333e-01,  0.00000000e+00,  0.00000000e+00],\n",
              "       [ 2.73333333e+00,  1.16666667e+00,  1.49798548e+02, ...,\n",
              "         3.33333333e-01,  3.33333333e-01,  3.33333333e-01],\n",
              "       ...,\n",
              "       [ 1.48666667e+00,  1.20000000e+00,  0.00000000e+00, ...,\n",
              "         4.45256140e+01,  0.00000000e+00,  0.00000000e+00],\n",
              "       [ 0.00000000e+00,  0.00000000e+00,  1.20000000e+00, ...,\n",
              "         0.00000000e+00,  3.33333333e+00,  0.00000000e+00],\n",
              "       [ 0.00000000e+00,  0.00000000e+00,  1.20000000e+00, ...,\n",
              "         0.00000000e+00,  0.00000000e+00,  3.33333333e+00]])"
            ]
          },
          "execution_count": 31,
          "metadata": {
            "tags": []
          },
          "output_type": "execute_result"
        }
      ],
      "source": [
        "M"
      ]
    },
    {
      "cell_type": "markdown",
      "metadata": {
        "colab_type": "text",
        "id": "4x_HBs67F6R0"
      },
      "source": [
        "Depois de processar todas as partidas de todos os jogadores, vamos normalizar ***M*** para que todas as colunas somem 1. "
      ]
    },
    {
      "cell_type": "code",
      "execution_count": null,
      "metadata": {
        "colab": {},
        "colab_type": "code",
        "id": "fCZzIIBmF6R1"
      },
      "outputs": [],
      "source": [
        "M = M / np.sum(M,axis=1)"
      ]
    },
    {
      "cell_type": "markdown",
      "metadata": {
        "colab_type": "text",
        "id": "XJDznAc2F6R3"
      },
      "source": [
        "# Distribuição estacionária"
      ]
    },
    {
      "cell_type": "markdown",
      "metadata": {
        "colab_type": "text",
        "id": "RDsslQNLF6R3"
      },
      "source": [
        "Agora que temos a nossa matriz de transição pronta, podemos calcular a distribuição estacionária."
      ]
    },
    {
      "cell_type": "code",
      "execution_count": null,
      "metadata": {
        "colab": {},
        "colab_type": "code",
        "id": "riSfjvGwF6R4"
      },
      "outputs": [],
      "source": [
        "evals, evecs = np.linalg.eig(M.T)\n",
        "evec1 = evecs[:,np.isclose(evals, 1)]\n",
        "\n",
        "evec1 = evec1[:,0]\n",
        "stationary = evec1 / evec1.sum()\n",
        "stationary = stationary.real"
      ]
    },
    {
      "cell_type": "markdown",
      "metadata": {
        "colab_type": "text",
        "id": "mRo2XFoIF6R7"
      },
      "source": [
        "Por final geramos uma array de tamanho ***d***, lembrando que uma posição ***i*** aqui está relacionada a posição ***i*** no ranking de ids que criamos no começo do estudo.\n",
        "\n",
        "Podemos notar que as probabilidades são muito baixas, sendo muito difícil selecionar um jogador apenas pela probabilidades aqui geradas."
      ]
    },
    {
      "cell_type": "code",
      "execution_count": null,
      "metadata": {
        "colab": {
          "base_uri": "https://localhost:8080/",
          "height": 660
        },
        "colab_type": "code",
        "id": "VLsZ_FdHF6R7",
        "outputId": "0af7a533-4c3a-437c-d575-c20660d97aed"
      },
      "outputs": [
        {
          "data": {
            "text/plain": [
              "array([ 0.00731038,  0.00616347,  0.00484343,  0.00695385,  0.01168938,\n",
              "        0.00469597,  0.00337924,  0.00621204,  0.01412081,  0.00434125,\n",
              "        0.01107031,  0.01202499,  0.0074616 ,  0.00665112,  0.00721953,\n",
              "        0.01255896,  0.00884944,  0.00358236,  0.00459907,  0.00787192,\n",
              "        0.00398276,  0.01445489,  0.00503428,  0.00471894,  0.00822236,\n",
              "        0.0166812 ,  0.00598232,  0.00855128,  0.01244121,  0.00445218,\n",
              "        0.00711403,  0.00686154,  0.00148045,  0.00630577,  0.01323268,\n",
              "        0.00171698,  0.0024971 ,  0.00832111,  0.00217624,  0.00374428,\n",
              "        0.00782285,  0.00738403,  0.00559124,  0.00762528,  0.00730022,\n",
              "        0.00492946,  0.00407358,  0.00297706,  0.0086214 ,  0.00378671,\n",
              "        0.00966376,  0.00163864, -0.00053327,  0.00111811,  0.00259555,\n",
              "        0.01256466,  0.01271591,  0.00730805,  0.00310363,  0.01197652,\n",
              "        0.00308812,  0.00324882,  0.00378056,  0.00268182,  0.00134444,\n",
              "        0.00092731,  0.01776073,  0.00537619,  0.0067285 ,  0.01438359,\n",
              "        0.00404424,  0.01114829,  0.00401458,  0.00511203,  0.00398778,\n",
              "        0.00344233,  0.00550163,  0.00367224,  0.01333575,  0.00775773,\n",
              "        0.00463898,  0.00186882,  0.00418564,  0.00653185,  0.00443146,\n",
              "        0.00302337,  0.00648788,  0.00122698,  0.01648303,  0.00377965,\n",
              "        0.00487898,  0.01073325,  0.00531774,  0.00398791,  0.00442068,\n",
              "        0.00859852,  0.01158172,  0.02096999,  0.00245601,  0.0067232 ,\n",
              "        0.00436343,  0.00276509,  0.00168112,  0.0068929 ,  0.00250361,\n",
              "        0.00397848,  0.0056678 ,  0.0037609 ,  0.00258883,  0.00208409,\n",
              "        0.00092593,  0.0062334 ,  0.00145072,  0.00602083,  0.00514046,\n",
              "        0.00970791,  0.00600166,  0.0017941 ,  0.00288089,  0.0033743 ,\n",
              "        0.00144403,  0.00501777,  0.00433967,  0.01214485,  0.00139414,\n",
              "        0.00367013,  0.0024855 ,  0.00615069,  0.00355176,  0.00695009,\n",
              "        0.00534948,  0.003114  ,  0.00477847,  0.00303131,  0.00979987,\n",
              "        0.00081018,  0.01013513,  0.00485849,  0.00647603,  0.00471968,\n",
              "        0.00155997,  0.00313165,  0.00421654,  0.0033132 ,  0.00282248,\n",
              "        0.00759937,  0.00123722,  0.00361094,  0.00373763,  0.00570538,\n",
              "        0.00235365,  0.00268088,  0.00434328,  0.00262979,  0.00487388,\n",
              "        0.00295845,  0.00274304,  0.00664612,  0.00295117,  0.00885463,\n",
              "        0.0072304 ,  0.00301219,  0.00803037,  0.00220254,  0.00193955,\n",
              "        0.00949402,  0.00232982,  0.00368731,  0.0044072 ,  0.00080727,\n",
              "        0.00156119,  0.00153451,  0.00344377,  0.00589616,  0.00354408,\n",
              "        0.00203243,  0.00129616,  0.00172756,  0.00480984,  0.00315479,\n",
              "        0.00217773,  0.00217773])"
            ]
          },
          "execution_count": 34,
          "metadata": {
            "tags": []
          },
          "output_type": "execute_result"
        }
      ],
      "source": [
        "stationary"
      ]
    },
    {
      "cell_type": "markdown",
      "metadata": {
        "colab_type": "text",
        "id": "_FwHO5JVF6R-"
      },
      "source": [
        "Podemos verificar por exemplo quem teve probabilidade maior que 1.5%.\n",
        "\n",
        "O fato dos jogadores como Gabriel e Bruno Henrique aparecem entre os 5 maiores, pode ser um indicador que a regra criada para uma comparação de pontos + quantidade de gols marcada pelo time, pode estar dando maior peso para esses jogadores, o que é uma coisa boa. :)"
      ]
    },
    {
      "cell_type": "code",
      "execution_count": null,
      "metadata": {
        "colab": {
          "base_uri": "https://localhost:8080/",
          "height": 212
        },
        "colab_type": "code",
        "id": "eZmxBQCOF6SA",
        "outputId": "2f54cb3d-d902-4622-8e6f-826e3c7df7ff"
      },
      "outputs": [
        {
          "data": {
            "text/html": [
              "<div>\n",
              "<style scoped>\n",
              "    .dataframe tbody tr th:only-of-type {\n",
              "        vertical-align: middle;\n",
              "    }\n",
              "\n",
              "    .dataframe tbody tr th {\n",
              "        vertical-align: top;\n",
              "    }\n",
              "\n",
              "    .dataframe thead th {\n",
              "        text-align: right;\n",
              "    }\n",
              "</style>\n",
              "<table border=\"1\" class=\"dataframe\">\n",
              "  <thead>\n",
              "    <tr style=\"text-align: right;\">\n",
              "      <th></th>\n",
              "      <th>player_slug</th>\n",
              "      <th>player_id</th>\n",
              "      <th>player_nickname</th>\n",
              "      <th>player_team</th>\n",
              "      <th>player_position</th>\n",
              "      <th>price_cartoletas</th>\n",
              "      <th>score_mean</th>\n",
              "      <th>score_no_cleansheets_mean</th>\n",
              "      <th>diff_home_away_s</th>\n",
              "      <th>n_games</th>\n",
              "      <th>score_mean_home</th>\n",
              "      <th>score_mean_away</th>\n",
              "      <th>shots_x_mean</th>\n",
              "      <th>fouls_mean</th>\n",
              "      <th>RB_mean</th>\n",
              "      <th>PE_mean</th>\n",
              "      <th>A_mean</th>\n",
              "      <th>I_mean</th>\n",
              "      <th>FS_mean</th>\n",
              "      <th>FF_mean</th>\n",
              "      <th>G_mean</th>\n",
              "      <th>DD_mean</th>\n",
              "      <th>DP_mean</th>\n",
              "      <th>status</th>\n",
              "      <th>price_diff</th>\n",
              "      <th>last_points</th>\n",
              "      <th>Rank</th>\n",
              "    </tr>\n",
              "  </thead>\n",
              "  <tbody>\n",
              "    <tr>\n",
              "      <th>142</th>\n",
              "      <td>dudu</td>\n",
              "      <td>68920</td>\n",
              "      <td>Dudu</td>\n",
              "      <td>275</td>\n",
              "      <td>ata</td>\n",
              "      <td>18.90</td>\n",
              "      <td>5.780645</td>\n",
              "      <td>5.780645</td>\n",
              "      <td>0.809397</td>\n",
              "      <td>31</td>\n",
              "      <td>6.843750</td>\n",
              "      <td>4.646667</td>\n",
              "      <td>2.129032</td>\n",
              "      <td>1.193548</td>\n",
              "      <td>0.451613</td>\n",
              "      <td>2.967742</td>\n",
              "      <td>0.161290</td>\n",
              "      <td>0.290323</td>\n",
              "      <td>3.677419</td>\n",
              "      <td>0.903226</td>\n",
              "      <td>0.290323</td>\n",
              "      <td>0.0</td>\n",
              "      <td>0.0</td>\n",
              "      <td>Provável</td>\n",
              "      <td>-2.06</td>\n",
              "      <td>7.3</td>\n",
              "      <td>25</td>\n",
              "    </tr>\n",
              "    <tr>\n",
              "      <th>331</th>\n",
              "      <td>gabriel</td>\n",
              "      <td>83257</td>\n",
              "      <td>Gabriel</td>\n",
              "      <td>262</td>\n",
              "      <td>ata</td>\n",
              "      <td>19.57</td>\n",
              "      <td>9.617857</td>\n",
              "      <td>9.617857</td>\n",
              "      <td>1.010896</td>\n",
              "      <td>28</td>\n",
              "      <td>11.038462</td>\n",
              "      <td>8.386667</td>\n",
              "      <td>3.464286</td>\n",
              "      <td>1.142857</td>\n",
              "      <td>0.285714</td>\n",
              "      <td>1.964286</td>\n",
              "      <td>0.214286</td>\n",
              "      <td>0.607143</td>\n",
              "      <td>1.071429</td>\n",
              "      <td>1.214286</td>\n",
              "      <td>0.892857</td>\n",
              "      <td>0.0</td>\n",
              "      <td>0.0</td>\n",
              "      <td>Provável</td>\n",
              "      <td>-2.37</td>\n",
              "      <td>-0.8</td>\n",
              "      <td>66</td>\n",
              "    </tr>\n",
              "    <tr>\n",
              "      <th>423</th>\n",
              "      <td>bruno-henrique</td>\n",
              "      <td>90285</td>\n",
              "      <td>Bruno Henrique</td>\n",
              "      <td>262</td>\n",
              "      <td>ata</td>\n",
              "      <td>19.74</td>\n",
              "      <td>7.653125</td>\n",
              "      <td>7.653125</td>\n",
              "      <td>2.569387</td>\n",
              "      <td>32</td>\n",
              "      <td>10.737500</td>\n",
              "      <td>4.568750</td>\n",
              "      <td>2.593750</td>\n",
              "      <td>1.937500</td>\n",
              "      <td>0.781250</td>\n",
              "      <td>1.656250</td>\n",
              "      <td>0.125000</td>\n",
              "      <td>0.281250</td>\n",
              "      <td>2.187500</td>\n",
              "      <td>1.125000</td>\n",
              "      <td>0.593750</td>\n",
              "      <td>0.0</td>\n",
              "      <td>0.0</td>\n",
              "      <td>Provável</td>\n",
              "      <td>-0.78</td>\n",
              "      <td>-0.3</td>\n",
              "      <td>88</td>\n",
              "    </tr>\n",
              "    <tr>\n",
              "      <th>447</th>\n",
              "      <td>rony</td>\n",
              "      <td>91607</td>\n",
              "      <td>Rony</td>\n",
              "      <td>293</td>\n",
              "      <td>ata</td>\n",
              "      <td>13.94</td>\n",
              "      <td>5.351724</td>\n",
              "      <td>5.351724</td>\n",
              "      <td>0.983257</td>\n",
              "      <td>29</td>\n",
              "      <td>6.512500</td>\n",
              "      <td>3.923077</td>\n",
              "      <td>2.379310</td>\n",
              "      <td>2.206897</td>\n",
              "      <td>0.827586</td>\n",
              "      <td>1.896552</td>\n",
              "      <td>0.275862</td>\n",
              "      <td>0.448276</td>\n",
              "      <td>2.172414</td>\n",
              "      <td>1.310345</td>\n",
              "      <td>0.206897</td>\n",
              "      <td>0.0</td>\n",
              "      <td>0.0</td>\n",
              "      <td>Nulo</td>\n",
              "      <td>0.76</td>\n",
              "      <td>6.7</td>\n",
              "      <td>97</td>\n",
              "    </tr>\n",
              "  </tbody>\n",
              "</table>\n",
              "</div>"
            ],
            "text/plain": [
              "        player_slug  player_id player_nickname  ...  price_diff last_points  Rank\n",
              "142            dudu      68920            Dudu  ...       -2.06         7.3    25\n",
              "331         gabriel      83257         Gabriel  ...       -2.37        -0.8    66\n",
              "423  bruno-henrique      90285  Bruno Henrique  ...       -0.78        -0.3    88\n",
              "447            rony      91607            Rony  ...        0.76         6.7    97\n",
              "\n",
              "[4 rows x 27 columns]"
            ]
          },
          "execution_count": 35,
          "metadata": {
            "tags": []
          },
          "output_type": "execute_result"
        }
      ],
      "source": [
        "medias[medias.player_position == posicao][list(stationary > 0.015)]"
      ]
    },
    {
      "cell_type": "markdown",
      "metadata": {
        "colab_type": "text",
        "id": "6lY-7jzhF6SC"
      },
      "source": [
        "## Calculando a distribuição para todas posições"
      ]
    },
    {
      "cell_type": "markdown",
      "metadata": {
        "colab_type": "text",
        "id": "nQQatrIEF6SC"
      },
      "source": [
        "Para as posições de defesa, vamos substituir a pontuação referente aos gols marcado pelo time, por uma variável binária, referente a ter sofrido gol no jogo. Caso o time não tenha levado gol no jogo, damos pontuação de 1, se a defesa foi vazada o valor é 0.\n",
        "\n",
        "No meio-campo fazemos uma combinação das regras de defesa e ataque."
      ]
    },
    {
      "cell_type": "code",
      "execution_count": null,
      "metadata": {
        "colab": {},
        "colab_type": "code",
        "id": "eR2saSvUF6SD"
      },
      "outputs": [],
      "source": [
        "stationaries = {}\n",
        "\n",
        "for posicao in posicoes:\n",
        "    qtd_atletas = len(atletas[atletas.player_position == posicao])\n",
        "    M = np.zeros((qtd_atletas,qtd_atletas))\n",
        "\n",
        "    df_partidas_posicao = df_partidas[df_partidas['atletas.posicao_id'] == posicao].copy()\n",
        "\n",
        "    for partida in range(len(partidas)-1): #Vamos deixar a última partida de fora para testes\n",
        "        df_rodada = df_partidas_posicao[df_partidas_posicao['round'] == partidas['round'][partida]]\n",
        "        jogadores_casa = df_rodada[df_rodada['atletas.clube_id'] == partidas['home_team'][partida]]\n",
        "        jogadores_visitantes = df_rodada[df_rodada['atletas.clube_id'] == partidas['away_team'][partida]]\n",
        "\n",
        "        for j_casa in range(len(jogadores_casa)):\n",
        "            for j_visitante in range(len(jogadores_visitantes)):\n",
        "                score_casa = 0\n",
        "                score_visitante = 0\n",
        "\n",
        "                pontos_j_casa = jogadores_casa['atletas.pontos_num'].iloc[j_casa]\n",
        "                pontos_j_visitante = jogadores_visitantes['atletas.pontos_num'].iloc[j_visitante]\n",
        "\n",
        "                soma =  pontos_j_casa + pontos_j_visitante \n",
        "                if soma != 0:\n",
        "                    score_casa = pontos_j_casa / soma\n",
        "                    score_visitante = pontos_j_visitante / soma\n",
        "\n",
        "                def_n_vazada_casa = 0 if partidas['away_score_norm'][partida] > 0 else 1\n",
        "                def_n_vazada_visitante = 0 if partidas['home_score_norm'][partida] > 0 else 1\n",
        "                \n",
        "                if posicao == 'ata':\n",
        "                    pontos_casa = partidas['home_score_norm'][partida] + score_casa\n",
        "                    pontos_visitante = partidas['away_score_norm'][partida] + score_visitante\n",
        "                elif posicao == 'mei':\n",
        "                    pontos_casa = partidas['home_score_norm'][partida] + def_n_vazada_casa + score_casa\n",
        "                    pontos_visitante = partidas['away_score_norm'][partida] + def_n_vazada_visitante + score_visitante\n",
        "                else:\n",
        "                    pontos_casa = def_n_vazada_casa + score_casa\n",
        "                    pontos_visitante = def_n_vazada_visitante + score_visitante                  \n",
        "                    \n",
        "                j1 = jogadores_casa['Rank'].iloc[j_casa]\n",
        "                j2 = jogadores_visitantes['Rank'].iloc[j_visitante]               \n",
        "\n",
        "                M[j1,j1] = M[j1,j1] + pontos_casa\n",
        "                M[j1,j2] = M[j1,j2] + pontos_visitante\n",
        "                M[j2,j1] = M[j2,j1] + pontos_casa\n",
        "                M[j2,j2] = M[j2,j2] + pontos_visitante\n",
        "\n",
        "    M = M / np.sum(M,axis=1)\n",
        "\n",
        "    evals, evecs = np.linalg.eig(M.T)\n",
        "    evec1 = evecs[:,np.isclose(evals, 1)]\n",
        "\n",
        "    evec1 = evec1[:,0]\n",
        "    stationary = evec1 / evec1.sum()\n",
        "    stationary = stationary.real\n",
        "\n",
        "    stationaries[posicao] = stationary"
      ]
    },
    {
      "cell_type": "markdown",
      "metadata": {
        "colab_type": "text",
        "id": "8zrVgJZtF6SG"
      },
      "source": [
        "# Escalando para a rodada"
      ]
    },
    {
      "cell_type": "markdown",
      "metadata": {
        "colab_type": "text",
        "id": "0Irx5juZF6SG"
      },
      "source": [
        "No cálculo da distribuição, deixamos a última rodada de 2019 de fora, agora podemos utilizá-la para testar o nosso modelo."
      ]
    },
    {
      "cell_type": "code",
      "execution_count": null,
      "metadata": {
        "colab": {},
        "colab_type": "code",
        "id": "2Dl7aXctF6SH"
      },
      "outputs": [],
      "source": [
        "rodada = 38"
      ]
    },
    {
      "cell_type": "markdown",
      "metadata": {
        "colab_type": "text",
        "id": "3WP6wmWsF6SK"
      },
      "source": [
        "Primeiro vamos criar um DataFrame somente com as informações da rodada e colocar as probabilidades que encontramos referente a cada jogador."
      ]
    },
    {
      "cell_type": "code",
      "execution_count": null,
      "metadata": {
        "colab": {},
        "colab_type": "code",
        "id": "1fH1DyNrF6SK"
      },
      "outputs": [],
      "source": [
        "df_rodada = df_partidas[df_partidas['round'] == rodada].copy()\n",
        "df_rodada['Rank'] = df_rodada['Rank'].astype(int)\n",
        "df_rodada['probs'] = 0"
      ]
    },
    {
      "cell_type": "code",
      "execution_count": null,
      "metadata": {
        "colab": {},
        "colab_type": "code",
        "id": "5cfBJicXF6SN"
      },
      "outputs": [],
      "source": [
        "for jogador in range(len(df_rodada)):\n",
        "    posicao = df_rodada.iloc[jogador]['player_position']\n",
        "    rank = df_rodada.iloc[jogador]['Rank']\n",
        "    if rank:\n",
        "        df_rodada.iloc[jogador,-1] = stationaries[posicao][rank]"
      ]
    },
    {
      "cell_type": "markdown",
      "metadata": {
        "colab_type": "text",
        "id": "YriG8vwoF6SQ"
      },
      "source": [
        "Vamos utilizar também do recurso de status e só trabalhar com jogadores em status ***Provável***."
      ]
    },
    {
      "cell_type": "code",
      "execution_count": 60,
      "metadata": {
        "colab": {},
        "colab_type": "code",
        "id": "mvaL_MLXF6SQ"
      },
      "outputs": [
        {
          "ename": "NameError",
          "evalue": "name 'df_rodada' is not defined",
          "output_type": "error",
          "traceback": [
            "\u001b[1;31m---------------------------------------------------------------------------\u001b[0m",
            "\u001b[1;31mNameError\u001b[0m                                 Traceback (most recent call last)",
            "\u001b[1;32m~\\AppData\\Local\\Temp/ipykernel_1644/2477057389.py\u001b[0m in \u001b[0;36m<module>\u001b[1;34m\u001b[0m\n\u001b[1;32m----> 1\u001b[1;33m \u001b[0mdf_rodada\u001b[0m \u001b[1;33m=\u001b[0m \u001b[0mdf_rodada\u001b[0m\u001b[1;33m[\u001b[0m\u001b[0mdf_rodada\u001b[0m\u001b[1;33m[\u001b[0m\u001b[1;34m'atletas.status_id'\u001b[0m\u001b[1;33m]\u001b[0m \u001b[1;33m==\u001b[0m \u001b[1;34m'Provável'\u001b[0m\u001b[1;33m]\u001b[0m\u001b[1;33m.\u001b[0m\u001b[0mcopy\u001b[0m\u001b[1;33m(\u001b[0m\u001b[1;33m)\u001b[0m\u001b[1;33m\u001b[0m\u001b[1;33m\u001b[0m\u001b[0m\n\u001b[0m",
            "\u001b[1;31mNameError\u001b[0m: name 'df_rodada' is not defined"
          ]
        }
      ],
      "source": [
        "df_rodada = df_rodada[df_rodada['atletas.status_id'] == 'Provável'].copy()"
      ]
    },
    {
      "cell_type": "code",
      "execution_count": null,
      "metadata": {
        "colab": {
          "base_uri": "https://localhost:8080/",
          "height": 435
        },
        "colab_type": "code",
        "id": "_5Fv7jfXF6ST",
        "outputId": "3ad5aaae-1f77-4bda-e50e-0bcb383ef0d7"
      },
      "outputs": [
        {
          "data": {
            "text/html": [
              "<div>\n",
              "<style scoped>\n",
              "    .dataframe tbody tr th:only-of-type {\n",
              "        vertical-align: middle;\n",
              "    }\n",
              "\n",
              "    .dataframe tbody tr th {\n",
              "        vertical-align: top;\n",
              "    }\n",
              "\n",
              "    .dataframe thead th {\n",
              "        text-align: right;\n",
              "    }\n",
              "</style>\n",
              "<table border=\"1\" class=\"dataframe\">\n",
              "  <thead>\n",
              "    <tr style=\"text-align: right;\">\n",
              "      <th></th>\n",
              "      <th>Unnamed: 0</th>\n",
              "      <th>atletas.nome</th>\n",
              "      <th>atletas.slug</th>\n",
              "      <th>atletas.apelido</th>\n",
              "      <th>atletas.foto</th>\n",
              "      <th>atletas.rodada_id</th>\n",
              "      <th>atletas.clube_id</th>\n",
              "      <th>atletas.posicao_id</th>\n",
              "      <th>atletas.status_id</th>\n",
              "      <th>atletas.pontos_num</th>\n",
              "      <th>atletas.preco_num</th>\n",
              "      <th>atletas.variacao_num</th>\n",
              "      <th>atletas.media_num</th>\n",
              "      <th>atletas.clube.id.full.name</th>\n",
              "      <th>FS</th>\n",
              "      <th>RB</th>\n",
              "      <th>PE</th>\n",
              "      <th>FC</th>\n",
              "      <th>G</th>\n",
              "      <th>FF</th>\n",
              "      <th>FT</th>\n",
              "      <th>FD</th>\n",
              "      <th>DD</th>\n",
              "      <th>GS</th>\n",
              "      <th>SG</th>\n",
              "      <th>A</th>\n",
              "      <th>CA</th>\n",
              "      <th>I</th>\n",
              "      <th>CV</th>\n",
              "      <th>PP</th>\n",
              "      <th>GC</th>\n",
              "      <th>DP</th>\n",
              "      <th>round</th>\n",
              "      <th>Rank</th>\n",
              "      <th>player_position</th>\n",
              "      <th>probs</th>\n",
              "    </tr>\n",
              "  </thead>\n",
              "  <tbody>\n",
              "    <tr>\n",
              "      <th>37655</th>\n",
              "      <td>4</td>\n",
              "      <td>Rafael Martiniano de Miranda Moura</td>\n",
              "      <td>rafael-moura</td>\n",
              "      <td>Rafael Moura</td>\n",
              "      <td>https://s.glbimg.com/es/sde/f/2019/07/16/854eb...</td>\n",
              "      <td>38</td>\n",
              "      <td>290</td>\n",
              "      <td>ata</td>\n",
              "      <td>Provável</td>\n",
              "      <td>22.2</td>\n",
              "      <td>7.86</td>\n",
              "      <td>2.89</td>\n",
              "      <td>3.34</td>\n",
              "      <td>Goiás</td>\n",
              "      <td>26.0</td>\n",
              "      <td>8.0</td>\n",
              "      <td>31.0</td>\n",
              "      <td>53.0</td>\n",
              "      <td>9.0</td>\n",
              "      <td>22.0</td>\n",
              "      <td>NaN</td>\n",
              "      <td>5.0</td>\n",
              "      <td>NaN</td>\n",
              "      <td>NaN</td>\n",
              "      <td>NaN</td>\n",
              "      <td>1.0</td>\n",
              "      <td>4.0</td>\n",
              "      <td>7.0</td>\n",
              "      <td>1.0</td>\n",
              "      <td>NaN</td>\n",
              "      <td>NaN</td>\n",
              "      <td>NaN</td>\n",
              "      <td>38</td>\n",
              "      <td>0</td>\n",
              "      <td>ata</td>\n",
              "      <td>0.000000</td>\n",
              "    </tr>\n",
              "    <tr>\n",
              "      <th>37656</th>\n",
              "      <td>3</td>\n",
              "      <td>Fábio Deivson Lopes Maciel</td>\n",
              "      <td>fabio</td>\n",
              "      <td>Fábio</td>\n",
              "      <td>https://s.glbimg.com/es/sde/f/2018/05/18/d4072...</td>\n",
              "      <td>38</td>\n",
              "      <td>283</td>\n",
              "      <td>gol</td>\n",
              "      <td>Provável</td>\n",
              "      <td>2.0</td>\n",
              "      <td>10.35</td>\n",
              "      <td>0.42</td>\n",
              "      <td>3.43</td>\n",
              "      <td>Cruzeiro</td>\n",
              "      <td>5.0</td>\n",
              "      <td>NaN</td>\n",
              "      <td>13.0</td>\n",
              "      <td>NaN</td>\n",
              "      <td>NaN</td>\n",
              "      <td>NaN</td>\n",
              "      <td>NaN</td>\n",
              "      <td>NaN</td>\n",
              "      <td>44.0</td>\n",
              "      <td>40.0</td>\n",
              "      <td>12.0</td>\n",
              "      <td>NaN</td>\n",
              "      <td>2.0</td>\n",
              "      <td>NaN</td>\n",
              "      <td>NaN</td>\n",
              "      <td>NaN</td>\n",
              "      <td>NaN</td>\n",
              "      <td>2.0</td>\n",
              "      <td>38</td>\n",
              "      <td>0</td>\n",
              "      <td>gol</td>\n",
              "      <td>0.000000</td>\n",
              "    </tr>\n",
              "    <tr>\n",
              "      <th>37694</th>\n",
              "      <td>42</td>\n",
              "      <td>Henrique Pacheco de Lima</td>\n",
              "      <td>henrique</td>\n",
              "      <td>Henrique</td>\n",
              "      <td>https://s.glbimg.com/es/sde/f/2018/05/18/f4c3f...</td>\n",
              "      <td>38</td>\n",
              "      <td>283</td>\n",
              "      <td>mei</td>\n",
              "      <td>Provável</td>\n",
              "      <td>3.7</td>\n",
              "      <td>8.38</td>\n",
              "      <td>0.26</td>\n",
              "      <td>3.29</td>\n",
              "      <td>Cruzeiro</td>\n",
              "      <td>70.0</td>\n",
              "      <td>71.0</td>\n",
              "      <td>55.0</td>\n",
              "      <td>47.0</td>\n",
              "      <td>NaN</td>\n",
              "      <td>16.0</td>\n",
              "      <td>NaN</td>\n",
              "      <td>4.0</td>\n",
              "      <td>NaN</td>\n",
              "      <td>NaN</td>\n",
              "      <td>NaN</td>\n",
              "      <td>NaN</td>\n",
              "      <td>5.0</td>\n",
              "      <td>1.0</td>\n",
              "      <td>NaN</td>\n",
              "      <td>NaN</td>\n",
              "      <td>NaN</td>\n",
              "      <td>NaN</td>\n",
              "      <td>38</td>\n",
              "      <td>2</td>\n",
              "      <td>mei</td>\n",
              "      <td>0.005894</td>\n",
              "    </tr>\n",
              "    <tr>\n",
              "      <th>38162</th>\n",
              "      <td>19</td>\n",
              "      <td>Frederico Chaves Guedes</td>\n",
              "      <td>fred</td>\n",
              "      <td>Fred</td>\n",
              "      <td>https://s.glbimg.com/es/sde/f/2018/05/18/d0c4a...</td>\n",
              "      <td>38</td>\n",
              "      <td>283</td>\n",
              "      <td>ata</td>\n",
              "      <td>Provável</td>\n",
              "      <td>0.0</td>\n",
              "      <td>5.66</td>\n",
              "      <td>0.00</td>\n",
              "      <td>1.56</td>\n",
              "      <td>Cruzeiro</td>\n",
              "      <td>41.0</td>\n",
              "      <td>5.0</td>\n",
              "      <td>57.0</td>\n",
              "      <td>48.0</td>\n",
              "      <td>5.0</td>\n",
              "      <td>16.0</td>\n",
              "      <td>1.0</td>\n",
              "      <td>15.0</td>\n",
              "      <td>NaN</td>\n",
              "      <td>NaN</td>\n",
              "      <td>NaN</td>\n",
              "      <td>3.0</td>\n",
              "      <td>11.0</td>\n",
              "      <td>14.0</td>\n",
              "      <td>NaN</td>\n",
              "      <td>NaN</td>\n",
              "      <td>NaN</td>\n",
              "      <td>NaN</td>\n",
              "      <td>38</td>\n",
              "      <td>3</td>\n",
              "      <td>ata</td>\n",
              "      <td>0.006954</td>\n",
              "    </tr>\n",
              "    <tr>\n",
              "      <th>38279</th>\n",
              "      <td>17</td>\n",
              "      <td>Wellington Pereira do Nascimento</td>\n",
              "      <td>wellington-paulista</td>\n",
              "      <td>Wellington Paulista</td>\n",
              "      <td>https://s.glbimg.com/es/sde/f/2019/03/23/2138d...</td>\n",
              "      <td>38</td>\n",
              "      <td>356</td>\n",
              "      <td>ata</td>\n",
              "      <td>Provável</td>\n",
              "      <td>0.5</td>\n",
              "      <td>11.04</td>\n",
              "      <td>-0.65</td>\n",
              "      <td>4.69</td>\n",
              "      <td>Fortaleza</td>\n",
              "      <td>44.0</td>\n",
              "      <td>15.0</td>\n",
              "      <td>41.0</td>\n",
              "      <td>56.0</td>\n",
              "      <td>13.0</td>\n",
              "      <td>23.0</td>\n",
              "      <td>2.0</td>\n",
              "      <td>16.0</td>\n",
              "      <td>NaN</td>\n",
              "      <td>NaN</td>\n",
              "      <td>NaN</td>\n",
              "      <td>3.0</td>\n",
              "      <td>7.0</td>\n",
              "      <td>15.0</td>\n",
              "      <td>NaN</td>\n",
              "      <td>NaN</td>\n",
              "      <td>NaN</td>\n",
              "      <td>NaN</td>\n",
              "      <td>38</td>\n",
              "      <td>5</td>\n",
              "      <td>ata</td>\n",
              "      <td>0.004696</td>\n",
              "    </tr>\n",
              "  </tbody>\n",
              "</table>\n",
              "</div>"
            ],
            "text/plain": [
              "       Unnamed: 0                        atletas.nome  ... player_position     probs\n",
              "37655           4  Rafael Martiniano de Miranda Moura  ...             ata  0.000000\n",
              "37656           3          Fábio Deivson Lopes Maciel  ...             gol  0.000000\n",
              "37694          42            Henrique Pacheco de Lima  ...             mei  0.005894\n",
              "38162          19             Frederico Chaves Guedes  ...             ata  0.006954\n",
              "38279          17    Wellington Pereira do Nascimento  ...             ata  0.004696\n",
              "\n",
              "[5 rows x 36 columns]"
            ]
          },
          "execution_count": 41,
          "metadata": {
            "tags": []
          },
          "output_type": "execute_result"
        }
      ],
      "source": [
        "df_rodada.head()"
      ]
    },
    {
      "cell_type": "markdown",
      "metadata": {
        "colab_type": "text",
        "id": "u4XXUSyMF6SW"
      },
      "source": [
        "# Otimizando a escalação"
      ]
    },
    {
      "cell_type": "markdown",
      "metadata": {
        "colab_type": "text",
        "id": "Ww4QHJ7kF6SW"
      },
      "source": [
        "Agora que temos as probabilidades de cada jogador, precisamos gerar a melhor escalação possível de acordo com as restrições de quantidade de \"cartoletas\" e quantidade de jogadores por posição.\n",
        "\n",
        "Para isso vamos usar ***Programação Linear*** para maximizar a soma das probabilidades, restringindo a escalação escolhida e a quantidade de cartoletas."
      ]
    },
    {
      "cell_type": "markdown",
      "metadata": {
        "colab_type": "text",
        "id": "evx93OKHF6SX"
      },
      "source": [
        "Para os exemplos abaixo, vou usar a formação ***4-3-3*** e um total de ***140 cartoletas***.\n"
      ]
    },
    {
      "cell_type": "code",
      "execution_count": null,
      "metadata": {
        "colab": {},
        "colab_type": "code",
        "id": "A64iaEscF6SX"
      },
      "outputs": [],
      "source": [
        "formacao = {\n",
        "    'ata': 3,\n",
        "    'mei': 3,\n",
        "    'lat': 2,\n",
        "    'zag': 2,\n",
        "    'gol':1\n",
        "}\n",
        "\n",
        "cartoletas = 140"
      ]
    },
    {
      "cell_type": "markdown",
      "metadata": {
        "colab_type": "text",
        "id": "TEIMfVszF6Sa"
      },
      "source": [
        "## Programação Linear"
      ]
    },
    {
      "cell_type": "markdown",
      "metadata": {
        "colab_type": "text",
        "id": "dPUfuv-aF6Sb"
      },
      "source": [
        "Podemos representar esse problema com a seguinte notação matemática."
      ]
    },
    {
      "cell_type": "markdown",
      "metadata": {
        "colab_type": "text",
        "id": "Cn5YIlyUF6Sc"
      },
      "source": [
        "* _zi_, probabilidade de cada jogador _i_\n",
        "* _ci_, custo de cada jogador _i_\n",
        "* _yi_, valor binário indicando se o jogador _i_ foi escalado ou não\n",
        "* _n_, total de jogadores\n",
        "* _ai_, valor binário indicando se o jogador _i_ é atacante\n",
        "* _mi_, valor binário indicando se o jogador _i_ é meio-campista\n",
        "* _li_, valor binário indicando se o jogador _i_ é laterai\n",
        "* _zi_, valor binário indicando se o jogador _i_ é zagueiro\n",
        "* _gi_, valor binário indicando se o jogador _i_ é goleiro\n",
        "\n",
        "\n",
        "$$ Max. \\sum^n_{i=1}{z}_{i} * {y}_{i}$$\n",
        "Restrições:\n",
        "$$ \\sum^n_{i=1}{c}_{i} * {y}_{i} <= 140 $$\n",
        "$$ \\sum^n_{i=1}{a}_{i} * {y}_{i} = 3 $$\n",
        "$$ \\sum^n_{i=1}{m}_{i} * {y}_{i} = 3 $$\n",
        "$$ \\sum^n_{i=1}{l}_{i} * {y}_{i} = 2 $$\n",
        "$$ \\sum^n_{i=1}{z}_{i} * {y}_{i} = 2 $$\n",
        "$$ \\sum^n_{i=1}{g}_{i} * {y}_{i} = 1 $$"
      ]
    },
    {
      "cell_type": "markdown",
      "metadata": {
        "colab_type": "text",
        "id": "yvDrzRUYF6Sc"
      },
      "source": [
        "As variáveis que entraram na equação são relacionadas as posições, custo e probabilidade. Sendo assim, vamos criar dicionários com cada uma dessas informações relacionadas ao nome do jogador para facilitar a montagem do problema."
      ]
    },
    {
      "cell_type": "code",
      "execution_count": null,
      "metadata": {
        "colab": {},
        "colab_type": "code",
        "id": "OxemzfHVF6Sd"
      },
      "outputs": [],
      "source": [
        "df_rodada.set_index('atletas.slug',inplace=True)\n",
        "z = df_rodada['probs'].to_dict()\n",
        "c = df_rodada['atletas.preco_num'].to_dict()\n",
        "\n",
        "dummies_posicao = pd.get_dummies(df_rodada['atletas.posicao_id'])\n",
        "dummies_posicao = dummies_posicao.to_dict()"
      ]
    },
    {
      "cell_type": "markdown",
      "metadata": {
        "colab_type": "text",
        "id": "oWZBdWcsF6Sh"
      },
      "source": [
        "Primeiro, iniciamos o problema de otimização e definimos uma função objetivo."
      ]
    },
    {
      "cell_type": "code",
      "execution_count": null,
      "metadata": {
        "colab": {
          "base_uri": "https://localhost:8080/",
          "height": 312
        },
        "colab_type": "code",
        "id": "SMBLW3PsCTcH",
        "outputId": "27647328-7097-4cbf-baeb-c9832b0986cd"
      },
      "outputs": [
        {
          "name": "stdout",
          "output_type": "stream",
          "text": [
            "Collecting pulp\n",
            "\u001b[?25l  Downloading https://files.pythonhosted.org/packages/c3/22/5743d7b5d69f84fb63a0b4925862522dbf80e82defcd0c447afb694f3fd0/PuLP-2.3-py3-none-any.whl (40.6MB)\n",
            "\u001b[K     |████████████████████████████████| 40.6MB 95kB/s \n",
            "\u001b[?25hCollecting amply>=0.1.2\n",
            "  Downloading https://files.pythonhosted.org/packages/7f/11/33cb09557ac838d9488779b79e05a2a3c1f3ce9747cd242ba68332736778/amply-0.1.2.tar.gz\n",
            "  Installing build dependencies ... \u001b[?25l\u001b[?25hdone\n",
            "  Getting requirements to build wheel ... \u001b[?25l\u001b[?25hdone\n",
            "    Preparing wheel metadata ... \u001b[?25l\u001b[?25hdone\n",
            "Requirement already satisfied: docutils>=0.3 in /usr/local/lib/python3.6/dist-packages (from amply>=0.1.2->pulp) (0.15.2)\n",
            "Requirement already satisfied: pyparsing in /usr/local/lib/python3.6/dist-packages (from amply>=0.1.2->pulp) (2.4.7)\n",
            "Building wheels for collected packages: amply\n",
            "  Building wheel for amply (PEP 517) ... \u001b[?25l\u001b[?25hdone\n",
            "  Created wheel for amply: filename=amply-0.1.2-cp36-none-any.whl size=16572 sha256=538ef92b71436c3d919d06f34232b41fda9aaae653663f026cab4ba80b228f46\n",
            "  Stored in directory: /root/.cache/pip/wheels/84/18/f7/e5c3ed13ed5bb721763f77d4a924331d59ef115ce61c9d26eb\n",
            "Successfully built amply\n",
            "Installing collected packages: amply, pulp\n",
            "Successfully installed amply-0.1.2 pulp-2.3\n"
          ]
        }
      ],
      "source": [
        "!pip install pulp"
      ]
    },
    {
      "cell_type": "code",
      "execution_count": null,
      "metadata": {
        "colab": {},
        "colab_type": "code",
        "id": "TghBPEeEF6Sw"
      },
      "outputs": [],
      "source": [
        "from pulp import LpMaximize, LpProblem, lpSum, LpVariable\n",
        "\n",
        "prob = LpProblem(\"Melhor_Escalacao\", LpMaximize)\n",
        "y = LpVariable.dicts(\"Atl\",df_rodada.index,0,1,cat='Binary')\n",
        "prob += lpSum([z[i] * y[i] for i in y])"
      ]
    },
    {
      "cell_type": "markdown",
      "metadata": {
        "colab_type": "text",
        "id": "92bFblz-F6Sy"
      },
      "source": [
        "Agora adicionamos todas as restrições e calculamos."
      ]
    },
    {
      "cell_type": "code",
      "execution_count": null,
      "metadata": {
        "colab": {},
        "colab_type": "code",
        "id": "BAj_rsVXF6Sy"
      },
      "outputs": [],
      "source": [
        "prob += lpSum([c[i] * y[i] for i in y]) <= cartoletas, \"Limite de Cartoletas\"   \n",
        "prob += lpSum([dummies_posicao['ata'][i] * y[i] for i in y]) == formacao['ata'], \"Quantidade Atacantes\"\n",
        "prob += lpSum([dummies_posicao['lat'][i] * y[i] for i in y]) == formacao['lat'], \"Quantidade Laterais\"\n",
        "prob += lpSum([dummies_posicao['mei'][i] * y[i] for i in y]) == formacao['mei'], \"Quantidade Meio\"\n",
        "prob += lpSum([dummies_posicao['zag'][i] * y[i] for i in y]) == formacao['zag'], \"Quantidade Zagueiros\"\n",
        "prob += lpSum([dummies_posicao['gol'][i] * y[i] for i in y]) == formacao['gol'], \"Quantidade Goleiro\""
      ]
    },
    {
      "cell_type": "code",
      "execution_count": null,
      "metadata": {
        "colab": {
          "base_uri": "https://localhost:8080/",
          "height": 34
        },
        "colab_type": "code",
        "id": "xomAr1t_F6S1",
        "outputId": "7c60f221-5116-4343-9040-477694ddca09"
      },
      "outputs": [
        {
          "data": {
            "text/plain": [
              "1"
            ]
          },
          "execution_count": 48,
          "metadata": {
            "tags": []
          },
          "output_type": "execute_result"
        }
      ],
      "source": [
        "prob.solve()"
      ]
    },
    {
      "cell_type": "markdown",
      "metadata": {
        "colab_type": "text",
        "id": "eNlm28fuF6S4"
      },
      "source": [
        "Os jogadores escalados que maximizam as probabilidades dentro das restrições, ficam com o valor ***1*** para a variável de atletas."
      ]
    },
    {
      "cell_type": "code",
      "execution_count": null,
      "metadata": {
        "colab": {
          "base_uri": "https://localhost:8080/",
          "height": 208
        },
        "colab_type": "code",
        "id": "QIz6FvDOF6S5",
        "outputId": "f375c95a-2995-4ae7-da65-f50081f4e43f"
      },
      "outputs": [
        {
          "name": "stdout",
          "output_type": "stream",
          "text": [
            "bruno-henrique = 1.0\n",
            "carlos-sanchez = 1.0\n",
            "cassio = 1.0\n",
            "diogo-barbosa = 1.0\n",
            "dudu = 1.0\n",
            "everton-ribeiro = 1.0\n",
            "gerson = 1.0\n",
            "lucas-verissimo = 1.0\n",
            "marcos-rocha = 1.0\n",
            "pablo-mari = 1.0\n",
            "vagner-love = 1.0\n"
          ]
        }
      ],
      "source": [
        "escalados = []\n",
        "for v in prob.variables():\n",
        "    if v.varValue == 1:\n",
        "        atleta = v.name.replace('Atl_','').replace('_','-')\n",
        "        escalados.append(atleta)\n",
        "        print(atleta, \"=\", v.varValue)"
      ]
    },
    {
      "cell_type": "code",
      "execution_count": null,
      "metadata": {
        "colab": {
          "base_uri": "https://localhost:8080/",
          "height": 457
        },
        "colab_type": "code",
        "id": "od96pf9HF6S8",
        "outputId": "323e1fbf-05e5-4a54-d5e8-d5b2ea8ea112"
      },
      "outputs": [
        {
          "data": {
            "text/html": [
              "<div>\n",
              "<style scoped>\n",
              "    .dataframe tbody tr th:only-of-type {\n",
              "        vertical-align: middle;\n",
              "    }\n",
              "\n",
              "    .dataframe tbody tr th {\n",
              "        vertical-align: top;\n",
              "    }\n",
              "\n",
              "    .dataframe thead th {\n",
              "        text-align: right;\n",
              "    }\n",
              "</style>\n",
              "<table border=\"1\" class=\"dataframe\">\n",
              "  <thead>\n",
              "    <tr style=\"text-align: right;\">\n",
              "      <th></th>\n",
              "      <th>atletas.posicao_id</th>\n",
              "      <th>atletas.clube.id.full.name</th>\n",
              "      <th>atletas.pontos_num</th>\n",
              "      <th>atletas.preco_num</th>\n",
              "    </tr>\n",
              "    <tr>\n",
              "      <th>atletas.slug</th>\n",
              "      <th></th>\n",
              "      <th></th>\n",
              "      <th></th>\n",
              "      <th></th>\n",
              "    </tr>\n",
              "  </thead>\n",
              "  <tbody>\n",
              "    <tr>\n",
              "      <th>bruno-henrique</th>\n",
              "      <td>mei</td>\n",
              "      <td>Palmeiras</td>\n",
              "      <td>4.4</td>\n",
              "      <td>11.58</td>\n",
              "    </tr>\n",
              "    <tr>\n",
              "      <th>bruno-henrique</th>\n",
              "      <td>ata</td>\n",
              "      <td>Flamengo</td>\n",
              "      <td>-0.3</td>\n",
              "      <td>19.74</td>\n",
              "    </tr>\n",
              "    <tr>\n",
              "      <th>carlos-sanchez</th>\n",
              "      <td>mei</td>\n",
              "      <td>Santos</td>\n",
              "      <td>16.5</td>\n",
              "      <td>16.71</td>\n",
              "    </tr>\n",
              "    <tr>\n",
              "      <th>cassio</th>\n",
              "      <td>gol</td>\n",
              "      <td>Corinthians</td>\n",
              "      <td>-3.8</td>\n",
              "      <td>7.20</td>\n",
              "    </tr>\n",
              "    <tr>\n",
              "      <th>diogo-barbosa</th>\n",
              "      <td>lat</td>\n",
              "      <td>Palmeiras</td>\n",
              "      <td>5.4</td>\n",
              "      <td>13.62</td>\n",
              "    </tr>\n",
              "    <tr>\n",
              "      <th>dudu</th>\n",
              "      <td>ata</td>\n",
              "      <td>Palmeiras</td>\n",
              "      <td>7.3</td>\n",
              "      <td>18.90</td>\n",
              "    </tr>\n",
              "    <tr>\n",
              "      <th>everton-ribeiro</th>\n",
              "      <td>mei</td>\n",
              "      <td>Flamengo</td>\n",
              "      <td>0.1</td>\n",
              "      <td>11.37</td>\n",
              "    </tr>\n",
              "    <tr>\n",
              "      <th>gerson</th>\n",
              "      <td>mei</td>\n",
              "      <td>Flamengo</td>\n",
              "      <td>3.9</td>\n",
              "      <td>9.54</td>\n",
              "    </tr>\n",
              "    <tr>\n",
              "      <th>lucas-verissimo</th>\n",
              "      <td>zag</td>\n",
              "      <td>Santos</td>\n",
              "      <td>9.2</td>\n",
              "      <td>10.76</td>\n",
              "    </tr>\n",
              "    <tr>\n",
              "      <th>marcos-rocha</th>\n",
              "      <td>lat</td>\n",
              "      <td>Palmeiras</td>\n",
              "      <td>10.6</td>\n",
              "      <td>17.15</td>\n",
              "    </tr>\n",
              "    <tr>\n",
              "      <th>pablo-mari</th>\n",
              "      <td>zag</td>\n",
              "      <td>Flamengo</td>\n",
              "      <td>-1.0</td>\n",
              "      <td>7.21</td>\n",
              "    </tr>\n",
              "    <tr>\n",
              "      <th>vagner-love</th>\n",
              "      <td>ata</td>\n",
              "      <td>Corinthians</td>\n",
              "      <td>-1.3</td>\n",
              "      <td>4.69</td>\n",
              "    </tr>\n",
              "  </tbody>\n",
              "</table>\n",
              "</div>"
            ],
            "text/plain": [
              "                atletas.posicao_id  ... atletas.preco_num\n",
              "atletas.slug                        ...                  \n",
              "bruno-henrique                 mei  ...             11.58\n",
              "bruno-henrique                 ata  ...             19.74\n",
              "carlos-sanchez                 mei  ...             16.71\n",
              "cassio                         gol  ...              7.20\n",
              "diogo-barbosa                  lat  ...             13.62\n",
              "dudu                           ata  ...             18.90\n",
              "everton-ribeiro                mei  ...             11.37\n",
              "gerson                         mei  ...              9.54\n",
              "lucas-verissimo                zag  ...             10.76\n",
              "marcos-rocha                   lat  ...             17.15\n",
              "pablo-mari                     zag  ...              7.21\n",
              "vagner-love                    ata  ...              4.69\n",
              "\n",
              "[12 rows x 4 columns]"
            ]
          },
          "execution_count": 50,
          "metadata": {
            "tags": []
          },
          "output_type": "execute_result"
        }
      ],
      "source": [
        "colunas = ['atletas.posicao_id','atletas.clube.id.full.name','atletas.pontos_num','atletas.preco_num']\n",
        "df_rodada.loc[escalados][colunas]"
      ]
    },
    {
      "cell_type": "markdown",
      "metadata": {
        "colab_type": "text",
        "id": "jNrqMwBRF6S-"
      },
      "source": [
        "Podemos verificar qual foi o total de pontos que essa escalação somaria na última rodada."
      ]
    },
    {
      "cell_type": "code",
      "execution_count": null,
      "metadata": {
        "colab": {
          "base_uri": "https://localhost:8080/",
          "height": 34
        },
        "colab_type": "code",
        "id": "myJ80fq2F6S-",
        "outputId": "a9d82f6f-c674-4419-cdfe-d422bf127d14"
      },
      "outputs": [
        {
          "data": {
            "text/plain": [
              "51.00000000000001"
            ]
          },
          "execution_count": 51,
          "metadata": {
            "tags": []
          },
          "output_type": "execute_result"
        }
      ],
      "source": [
        "df_rodada.loc[escalados]['atletas.pontos_num'].sum()"
      ]
    },
    {
      "cell_type": "markdown",
      "metadata": {
        "colab_type": "text",
        "id": "qUJ1HbUKF6TC"
      },
      "source": [
        "Também o custo total."
      ]
    },
    {
      "cell_type": "code",
      "execution_count": null,
      "metadata": {
        "colab": {
          "base_uri": "https://localhost:8080/",
          "height": 34
        },
        "colab_type": "code",
        "id": "dHyYsENrF6TC",
        "outputId": "f0aeabad-0324-4f65-bd0b-afe5c157031a"
      },
      "outputs": [
        {
          "data": {
            "text/plain": [
              "148.47"
            ]
          },
          "execution_count": 52,
          "metadata": {
            "tags": []
          },
          "output_type": "execute_result"
        }
      ],
      "source": [
        "df_rodada.loc[escalados]['atletas.preco_num'].sum()"
      ]
    },
    {
      "cell_type": "markdown",
      "metadata": {
        "colab_type": "text",
        "id": "yfYMSytkF6TE"
      },
      "source": [
        "# Incluindo Palpites"
      ]
    },
    {
      "cell_type": "markdown",
      "metadata": {
        "colab_type": "text",
        "id": "W3YNewI3F6TF"
      },
      "source": [
        "Agora a cereja do bolo...\n",
        "\n",
        "Até aqui, o nosso modelo compara posição por posição, os jogadores contra seus adversários. Simulando, de certa forma, qual jogador que deveríamos escolher, para cada posição, considerando a sequência de jogos que esse jogador teve.\n",
        "\n",
        "No cálculo da distribuição estacionária, podemos notar que as probabilidades são muito semelhantes, ficando difícil escolher jogadores com muita certeza. Faz todo sentido, o futebol é rodeado de incertezas. No entanto essa estatística pode nos ajudar a escalar o time automaticamente.\n",
        "\n",
        "Podemos então utilizar a probabilidade gerada pela cadeia de Markov para selecionar um time baseado em alguns palpites que temos para os jogos. Vamos fazer um sistema simples, onde distribuimos 10 pontos, para a importância de alguns fatores. Por exemplo, eu considero que jogar em casa é um fator importante, e também gosto de apostar em times que além de jogar em casa, vão pegar adversários que nas últimas posições no campeonato. Então, dei as seguintes notas para a última rodada:\n",
        "\n",
        "\n",
        "* 5 pontos - jogar em casa\n",
        "* 3 pontos - Internacional\n",
        "* 2 pontos - Fortaleza"
      ]
    },
    {
      "cell_type": "code",
      "execution_count": null,
      "metadata": {
        "colab": {},
        "colab_type": "code",
        "id": "eDGeKIwfF6TG"
      },
      "outputs": [],
      "source": [
        "jogar_em_casa = 5\n",
        "\n",
        "times = {\n",
        "    'Internacional':3,\n",
        "    'Fortaleza':2\n",
        "}"
      ]
    },
    {
      "cell_type": "markdown",
      "metadata": {
        "colab_type": "text",
        "id": "3qY3drzpF6TJ"
      },
      "source": [
        "Agora, aumentamos as probabilidades dos jogadores que se enquadram nessa regra, multiplicando o seu valor atual, pela porcentagem de pontos que demos a ele, por exemplo:\n",
        "\n",
        "* Jogadores que jogam em casa = Probabilidade * 150%\n",
        "* Jogadores Internacional = Probabilidade * 130%\n",
        "* Jogadores Fortaleza = Probabilidade * 120%"
      ]
    },
    {
      "cell_type": "code",
      "execution_count": null,
      "metadata": {
        "colab": {},
        "colab_type": "code",
        "id": "cLfqwDc3F6TJ"
      },
      "outputs": [],
      "source": [
        "times_casa = partidas[partidas['round'] == rodada]['home_team']\n",
        "df_rodada.loc[df_rodada['atletas.clube_id'].isin(times_casa),'probs'] = df_rodada.loc[\n",
        "    df_rodada['atletas.clube_id'].isin(times_casa),'probs'] * (jogar_em_casa / 10 + 1)"
      ]
    },
    {
      "cell_type": "code",
      "execution_count": null,
      "metadata": {
        "colab": {},
        "colab_type": "code",
        "id": "uQXIhox7F6TL"
      },
      "outputs": [],
      "source": [
        "for time in times:\n",
        "    df_rodada.loc[df_rodada['atletas.clube.id.full.name'] == time,'probs'] = df_rodada.loc[\n",
        "        df_rodada['atletas.clube.id.full.name'] == time,'probs'] * (times[time] / 10 + 1)"
      ]
    },
    {
      "cell_type": "code",
      "execution_count": null,
      "metadata": {
        "colab": {},
        "colab_type": "code",
        "id": "CpTV9amGF6TN"
      },
      "outputs": [],
      "source": [
        "z = df_rodada['probs'].to_dict()"
      ]
    },
    {
      "cell_type": "markdown",
      "metadata": {
        "colab_type": "text",
        "id": "DxDMbppRF6TO"
      },
      "source": [
        "## Programação Linear"
      ]
    },
    {
      "cell_type": "markdown",
      "metadata": {
        "colab_type": "text",
        "id": "IOCfq_oDF6TP"
      },
      "source": [
        "Podemos otimizar a equação novamente."
      ]
    },
    {
      "cell_type": "code",
      "execution_count": null,
      "metadata": {
        "colab": {},
        "colab_type": "code",
        "id": "z1dogXMNF6TP"
      },
      "outputs": [],
      "source": [
        "prob = LpProblem(\"Melhor_Escalacao\", LpMaximize)\n",
        "y = LpVariable.dicts(\"Atl\",df_rodada.index,0,1,cat='Binary')\n",
        "prob += lpSum([z[i] * y[i] for i in y])"
      ]
    },
    {
      "cell_type": "code",
      "execution_count": null,
      "metadata": {
        "colab": {},
        "colab_type": "code",
        "id": "7Zqf4H66F6TS"
      },
      "outputs": [],
      "source": [
        "prob += lpSum([c[i] * y[i] for i in y]) <= cartoletas, \"Limite de Cartoletas\"   \n",
        "prob += lpSum([dummies_posicao['ata'][i] * y[i] for i in y]) == formacao['ata'], \"Quantidade Atacantes\"\n",
        "prob += lpSum([dummies_posicao['lat'][i] * y[i] for i in y]) == formacao['lat'], \"Quantidade Laterais\"\n",
        "prob += lpSum([dummies_posicao['mei'][i] * y[i] for i in y]) == formacao['mei'], \"Quantidade Meio\"\n",
        "prob += lpSum([dummies_posicao['zag'][i] * y[i] for i in y]) == formacao['zag'], \"Quantidade Zagueiros\"\n",
        "prob += lpSum([dummies_posicao['gol'][i] * y[i] for i in y]) == formacao['gol'], \"Quantidade Goleiro\""
      ]
    },
    {
      "cell_type": "code",
      "execution_count": null,
      "metadata": {
        "colab": {
          "base_uri": "https://localhost:8080/",
          "height": 34
        },
        "colab_type": "code",
        "id": "RIHoQnLHF6TT",
        "outputId": "8ae0365e-4a53-42ff-aa01-20151b80c4b7"
      },
      "outputs": [
        {
          "data": {
            "text/plain": [
              "1"
            ]
          },
          "execution_count": 59,
          "metadata": {
            "tags": []
          },
          "output_type": "execute_result"
        }
      ],
      "source": [
        "prob.solve()"
      ]
    },
    {
      "cell_type": "markdown",
      "metadata": {
        "colab_type": "text",
        "id": "51F8u84-F6TX"
      },
      "source": [
        "Por fim geramos uma nova escalação, que levou em consideração os pesos que colocamos acima."
      ]
    },
    {
      "cell_type": "code",
      "execution_count": null,
      "metadata": {
        "colab": {
          "base_uri": "https://localhost:8080/",
          "height": 208
        },
        "colab_type": "code",
        "id": "Ap9AFRmjF6TX",
        "outputId": "2bfffc58-e4db-4bcc-ef07-b0f0f1e912f5"
      },
      "outputs": [
        {
          "name": "stdout",
          "output_type": "stream",
          "text": [
            "carlos-sanchez = 1.0\n",
            "cassio = 1.0\n",
            "diogo-barbosa = 1.0\n",
            "lucas-verissimo = 1.0\n",
            "marcos-rocha = 1.0\n",
            "mateus-vital = 1.0\n",
            "osvaldo = 1.0\n",
            "romarinho = 1.0\n",
            "vagner-love = 1.0\n",
            "victor-cuesta = 1.0\n",
            "yago-pikachu = 1.0\n"
          ]
        }
      ],
      "source": [
        "escalados = []\n",
        "for v in prob.variables():\n",
        "    if v.varValue == 1:\n",
        "        atleta = v.name.replace('Atl_','').replace('_','-')\n",
        "        escalados.append(atleta)\n",
        "        print(atleta, \"=\", v.varValue)"
      ]
    },
    {
      "cell_type": "markdown",
      "metadata": {
        "colab_type": "text",
        "id": "uLLLHjY9F6TZ"
      },
      "source": [
        "Ao avaliar a escalação abaixo, geramos dessa vez uma pontuação de ***81*** pontos, ***60%*** a mais que o resultado anterior.\n",
        "\n",
        "Outro ponto interessante é que usamos menos cartoletas do que na escalação anterior. Uma oportunidade é usar esse modelo para fazer escalações mais baratas, quando o objetivo for valorização. Para isso, basta colocar o limite que deseja no total de cartoletas."
      ]
    },
    {
      "cell_type": "code",
      "execution_count": null,
      "metadata": {
        "colab": {
          "base_uri": "https://localhost:8080/",
          "height": 426
        },
        "colab_type": "code",
        "id": "-FZa3kXUF6Ta",
        "outputId": "affa51ba-f301-4a88-bdf0-3ff13ac51670"
      },
      "outputs": [
        {
          "data": {
            "text/html": [
              "<div>\n",
              "<style scoped>\n",
              "    .dataframe tbody tr th:only-of-type {\n",
              "        vertical-align: middle;\n",
              "    }\n",
              "\n",
              "    .dataframe tbody tr th {\n",
              "        vertical-align: top;\n",
              "    }\n",
              "\n",
              "    .dataframe thead th {\n",
              "        text-align: right;\n",
              "    }\n",
              "</style>\n",
              "<table border=\"1\" class=\"dataframe\">\n",
              "  <thead>\n",
              "    <tr style=\"text-align: right;\">\n",
              "      <th></th>\n",
              "      <th>atletas.posicao_id</th>\n",
              "      <th>atletas.clube.id.full.name</th>\n",
              "      <th>atletas.pontos_num</th>\n",
              "      <th>atletas.preco_num</th>\n",
              "    </tr>\n",
              "    <tr>\n",
              "      <th>atletas.slug</th>\n",
              "      <th></th>\n",
              "      <th></th>\n",
              "      <th></th>\n",
              "      <th></th>\n",
              "    </tr>\n",
              "  </thead>\n",
              "  <tbody>\n",
              "    <tr>\n",
              "      <th>carlos-sanchez</th>\n",
              "      <td>mei</td>\n",
              "      <td>Santos</td>\n",
              "      <td>16.5</td>\n",
              "      <td>16.71</td>\n",
              "    </tr>\n",
              "    <tr>\n",
              "      <th>cassio</th>\n",
              "      <td>gol</td>\n",
              "      <td>Corinthians</td>\n",
              "      <td>-3.8</td>\n",
              "      <td>7.20</td>\n",
              "    </tr>\n",
              "    <tr>\n",
              "      <th>diogo-barbosa</th>\n",
              "      <td>lat</td>\n",
              "      <td>Palmeiras</td>\n",
              "      <td>5.4</td>\n",
              "      <td>13.62</td>\n",
              "    </tr>\n",
              "    <tr>\n",
              "      <th>lucas-verissimo</th>\n",
              "      <td>zag</td>\n",
              "      <td>Santos</td>\n",
              "      <td>9.2</td>\n",
              "      <td>10.76</td>\n",
              "    </tr>\n",
              "    <tr>\n",
              "      <th>marcos-rocha</th>\n",
              "      <td>lat</td>\n",
              "      <td>Palmeiras</td>\n",
              "      <td>10.6</td>\n",
              "      <td>17.15</td>\n",
              "    </tr>\n",
              "    <tr>\n",
              "      <th>mateus-vital</th>\n",
              "      <td>mei</td>\n",
              "      <td>Corinthians</td>\n",
              "      <td>3.2</td>\n",
              "      <td>7.59</td>\n",
              "    </tr>\n",
              "    <tr>\n",
              "      <th>osvaldo</th>\n",
              "      <td>ata</td>\n",
              "      <td>Fortaleza</td>\n",
              "      <td>13.4</td>\n",
              "      <td>8.26</td>\n",
              "    </tr>\n",
              "    <tr>\n",
              "      <th>romarinho</th>\n",
              "      <td>ata</td>\n",
              "      <td>Fortaleza</td>\n",
              "      <td>1.7</td>\n",
              "      <td>5.96</td>\n",
              "    </tr>\n",
              "    <tr>\n",
              "      <th>vagner-love</th>\n",
              "      <td>ata</td>\n",
              "      <td>Corinthians</td>\n",
              "      <td>-1.3</td>\n",
              "      <td>4.69</td>\n",
              "    </tr>\n",
              "    <tr>\n",
              "      <th>victor-cuesta</th>\n",
              "      <td>zag</td>\n",
              "      <td>Internacional</td>\n",
              "      <td>15.6</td>\n",
              "      <td>16.50</td>\n",
              "    </tr>\n",
              "    <tr>\n",
              "      <th>yago-pikachu</th>\n",
              "      <td>mei</td>\n",
              "      <td>Vasco</td>\n",
              "      <td>10.9</td>\n",
              "      <td>10.46</td>\n",
              "    </tr>\n",
              "  </tbody>\n",
              "</table>\n",
              "</div>"
            ],
            "text/plain": [
              "                atletas.posicao_id  ... atletas.preco_num\n",
              "atletas.slug                        ...                  \n",
              "carlos-sanchez                 mei  ...             16.71\n",
              "cassio                         gol  ...              7.20\n",
              "diogo-barbosa                  lat  ...             13.62\n",
              "lucas-verissimo                zag  ...             10.76\n",
              "marcos-rocha                   lat  ...             17.15\n",
              "mateus-vital                   mei  ...              7.59\n",
              "osvaldo                        ata  ...              8.26\n",
              "romarinho                      ata  ...              5.96\n",
              "vagner-love                    ata  ...              4.69\n",
              "victor-cuesta                  zag  ...             16.50\n",
              "yago-pikachu                   mei  ...             10.46\n",
              "\n",
              "[11 rows x 4 columns]"
            ]
          },
          "execution_count": 61,
          "metadata": {
            "tags": []
          },
          "output_type": "execute_result"
        }
      ],
      "source": [
        "colunas = ['atletas.posicao_id','atletas.clube.id.full.name','atletas.pontos_num','atletas.preco_num']\n",
        "df_rodada.loc[escalados][colunas]"
      ]
    },
    {
      "cell_type": "code",
      "execution_count": null,
      "metadata": {
        "colab": {
          "base_uri": "https://localhost:8080/",
          "height": 34
        },
        "colab_type": "code",
        "id": "BdoVpV60F6Tg",
        "outputId": "c83107ba-2b8c-43e3-9962-167618635789"
      },
      "outputs": [
        {
          "data": {
            "text/plain": [
              "81.4"
            ]
          },
          "execution_count": 62,
          "metadata": {
            "tags": []
          },
          "output_type": "execute_result"
        }
      ],
      "source": [
        "df_rodada.loc[escalados]['atletas.pontos_num'].sum()"
      ]
    },
    {
      "cell_type": "code",
      "execution_count": null,
      "metadata": {
        "colab": {
          "base_uri": "https://localhost:8080/",
          "height": 34
        },
        "colab_type": "code",
        "id": "QhRzZM-2F6Th",
        "outputId": "f868235f-54cb-4534-bc66-0504ac506786"
      },
      "outputs": [
        {
          "data": {
            "text/plain": [
              "118.9"
            ]
          },
          "execution_count": 63,
          "metadata": {
            "tags": []
          },
          "output_type": "execute_result"
        }
      ],
      "source": [
        "df_rodada.loc[escalados]['atletas.preco_num'].sum()"
      ]
    },
    {
      "cell_type": "markdown",
      "metadata": {
        "colab_type": "text",
        "id": "1EkIRZW0F6Tj"
      },
      "source": [
        "### TODO\n",
        "\n",
        "* Reavaliar o efeito de jogadores que acumulam mais pontos, simplesmente pelo fato de jogarem mais partidas."
      ]
    }
  ],
  "metadata": {
    "colab": {
      "name": "markov-chain-lpp.ipynb",
      "provenance": []
    },
    "kernelspec": {
      "display_name": "Python 3",
      "language": "python",
      "name": "python3"
    },
    "language_info": {
      "codemirror_mode": {
        "name": "ipython",
        "version": 3
      },
      "file_extension": ".py",
      "mimetype": "text/x-python",
      "name": "python",
      "nbconvert_exporter": "python",
      "pygments_lexer": "ipython3",
      "version": "3.10.1"
    }
  },
  "nbformat": 4,
  "nbformat_minor": 0
}
